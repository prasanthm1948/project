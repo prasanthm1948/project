{
 "cells": [
  {
   "cell_type": "code",
   "execution_count": 2,
   "id": "3b1c0708-1b57-4ba2-9dae-c8a89fa1f46f",
   "metadata": {
    "scrolled": true
   },
   "outputs": [
    {
     "name": "stdout",
     "output_type": "stream",
     "text": [
      "Library management system\n",
      "For display books enter 1\n",
      "For boorow book enter 2\n",
      "For return book enter 3 \n",
      "For Exit enter 4 \n"
     ]
    },
    {
     "name": "stdin",
     "output_type": "stream",
     "text": [
      "Enter the choice: 1\n"
     ]
    },
    {
     "name": "stdout",
     "output_type": "stream",
     "text": [
      "story\n",
      "spiritual\n",
      "self_help\n",
      "love_book\n",
      "horror_books\n",
      "Library management system\n",
      "For display books enter 1\n",
      "For boorow book enter 2\n",
      "For return book enter 3 \n",
      "For Exit enter 4 \n"
     ]
    },
    {
     "name": "stdin",
     "output_type": "stream",
     "text": [
      "Enter the choice: 2\n",
      "Enter the book to borrow: story\n"
     ]
    },
    {
     "name": "stdout",
     "output_type": "stream",
     "text": [
      "Book 'story' has been borrowed from the library \n",
      "Library management system\n",
      "For display books enter 1\n",
      "For boorow book enter 2\n",
      "For return book enter 3 \n",
      "For Exit enter 4 \n"
     ]
    },
    {
     "name": "stdin",
     "output_type": "stream",
     "text": [
      "Enter the choice: 3\n",
      "Enter the book to return: kids_book\n"
     ]
    },
    {
     "name": "stdout",
     "output_type": "stream",
     "text": [
      "Book 'kids_book' is returned\n",
      "Library management system\n",
      "For display books enter 1\n",
      "For boorow book enter 2\n",
      "For return book enter 3 \n",
      "For Exit enter 4 \n"
     ]
    },
    {
     "name": "stdin",
     "output_type": "stream",
     "text": [
      "Enter the choice: 4\n"
     ]
    },
    {
     "name": "stdout",
     "output_type": "stream",
     "text": [
      "Exit\n"
     ]
    }
   ],
   "source": [
    " class library:\n",
    "    def __init__(self):\n",
    "        self.books=[\"story\",\"spiritual\",\"self_help\",\"love_book\",\"horror_books\"]\n",
    "    def add_book(self,book_name):\n",
    "        self.books.append(book_name)\n",
    "        print(f\"Book '{book_name}' has been added to the library\")\n",
    "    def borrow_book(self,book_name):\n",
    "        if book_name in self.books:\n",
    "            self.books.remove(book_name)\n",
    "            print(f\"Book '{book_name}' has been borrowed from the library \")\n",
    "    def return_book(self,book_name):\n",
    "        self.books.append(book_name)\n",
    "        print(f\"Book '{book_name}' is returned\")\n",
    "    def display_book(self):\n",
    "        if self.books:\n",
    "            for i in self.books:\n",
    "                \n",
    "                print(i)\n",
    "        else:\n",
    "            print(\"There is no books \")\n",
    "\n",
    "\n",
    "\n",
    "def main():\n",
    "    object1=library()\n",
    "    \n",
    "    while True:\n",
    "        print('Library management system')\n",
    "        print('For display books enter 1')\n",
    "        print('For boorow book enter 2')\n",
    "        print('For return book enter 3 ')\n",
    "        print('For Exit enter 4 ')\n",
    "        \n",
    "        a=int(input(\"Enter the choice:\"))\n",
    "        if (a==1):\n",
    "            object1.display_book()\n",
    "        elif(a==2):\n",
    "            b=input(\"Enter the book to borrow:\")\n",
    "            object1.borrow_book(b)\n",
    "        elif(a==3):\n",
    "            c=input(\"Enter the book to return:\")\n",
    "            object1.return_book(c)\n",
    "        elif(a==4):\n",
    "            print(\"Exit\")\n",
    "            break\n",
    "        else:\n",
    "            print(\"You Enter wrong choice try again \")\n",
    "if __name__==\"__main__\":\n",
    "    main()\n",
    "\n",
    "\n",
    "        \n",
    "        \n",
    "        \n",
    "        "
   ]
  },
  {
   "cell_type": "code",
   "execution_count": 9,
   "id": "9929e2e1-cbb4-43de-9188-189c93fdbfe3",
   "metadata": {},
   "outputs": [
    {
     "name": "stdout",
     "output_type": "stream",
     "text": [
      "python\n"
     ]
    }
   ],
   "source": [
    "d={\n",
    "    'program1':'python',\n",
    "    'program2':'SQL',\n",
    "    'program3':'java'\n",
    "}\n",
    "\n",
    "print(d.get('program1'))"
   ]
  },
  {
   "cell_type": "code",
   "execution_count": 11,
   "id": "75fb57b2-b258-428b-9c6b-cce5a1161199",
   "metadata": {
    "scrolled": true
   },
   "outputs": [
    {
     "data": {
      "text/plain": [
       "'SQL'"
      ]
     },
     "execution_count": 11,
     "metadata": {},
     "output_type": "execute_result"
    }
   ],
   "source": [
    "d.get('program2')"
   ]
  },
  {
   "cell_type": "code",
   "execution_count": 12,
   "id": "3ecc499b-397d-404e-9789-b30edec85784",
   "metadata": {
    "scrolled": true
   },
   "outputs": [
    {
     "data": {
      "text/plain": [
       "dict_keys(['program1', 'program2', 'program3'])"
      ]
     },
     "execution_count": 12,
     "metadata": {},
     "output_type": "execute_result"
    }
   ],
   "source": [
    "d.keys()"
   ]
  },
  {
   "cell_type": "code",
   "execution_count": 13,
   "id": "7d3b5e7d-176c-423a-838f-7cf8f77bca3c",
   "metadata": {},
   "outputs": [
    {
     "data": {
      "text/plain": [
       "dict_values(['python', 'SQL', 'java'])"
      ]
     },
     "execution_count": 13,
     "metadata": {},
     "output_type": "execute_result"
    }
   ],
   "source": [
    "d.values()"
   ]
  },
  {
   "cell_type": "code",
   "execution_count": 15,
   "id": "aaa89120-963f-46ae-bdc3-a32cf55b1d91",
   "metadata": {},
   "outputs": [
    {
     "data": {
      "text/plain": [
       "dict_items([('program1', 'python'), ('program2', 'SQL'), ('program3', 'java')])"
      ]
     },
     "execution_count": 15,
     "metadata": {},
     "output_type": "execute_result"
    }
   ],
   "source": [
    "d.items()"
   ]
  },
  {
   "cell_type": "code",
   "execution_count": 16,
   "id": "9de4a239-576b-4f6e-8784-dfea1874792b",
   "metadata": {
    "scrolled": true
   },
   "outputs": [
    {
     "name": "stdout",
     "output_type": "stream",
     "text": [
      "Removed_item python\n"
     ]
    }
   ],
   "source": [
    "print(\"Removed_item\",d.pop('program1'))"
   ]
  },
  {
   "cell_type": "code",
   "execution_count": 19,
   "id": "703dc9ee-c6db-4e0a-a17a-c80473053bea",
   "metadata": {},
   "outputs": [
    {
     "name": "stdout",
     "output_type": "stream",
     "text": [
      "Dictionary after pop operation dict_items([('program2', 'SQL'), ('program3', 'java')])\n"
     ]
    }
   ],
   "source": [
    "print(\"Dictionary after pop operation\",d.items())"
   ]
  },
  {
   "cell_type": "code",
   "execution_count": 22,
   "id": "1054936e-ede6-41c9-9c30-2567c8f38e19",
   "metadata": {},
   "outputs": [],
   "source": [
    "d.update({\n",
    "    'program4':'r',\n",
    "    'program5':'php'\n",
    "})"
   ]
  },
  {
   "cell_type": "code",
   "execution_count": 24,
   "id": "be443245-7faa-4d94-b131-ad20828fb5e2",
   "metadata": {
    "scrolled": true
   },
   "outputs": [
    {
     "name": "stdout",
     "output_type": "stream",
     "text": [
      "after updation of the dictionary {'program2': 'SQL', 'program3': 'java', 'program4': 'r', 'program5': 'php'}\n"
     ]
    }
   ],
   "source": [
    "print(\"after updation of the dictionary\",d)"
   ]
  },
  {
   "cell_type": "code",
   "execution_count": 26,
   "id": "5dcf7276-57c8-44ae-aa5a-ff5c82b8ee6a",
   "metadata": {
    "scrolled": true
   },
   "outputs": [
    {
     "data": {
      "text/plain": [
       "{1: 'a', 2: 'b', 3: 'c', 4: 'd'}"
      ]
     },
     "execution_count": 26,
     "metadata": {},
     "output_type": "execute_result"
    }
   ],
   "source": [
    "keys=[1,2,3,4]\n",
    "values=['a','b','c','d']\n",
    "dict_1={k:v for (k,v) in zip(keys,values)}\n",
    "dict_1"
   ]
  },
  {
   "cell_type": "code",
   "execution_count": 27,
   "id": "6de90a13-4f59-4f94-ac87-5ecd22bc4c5c",
   "metadata": {},
   "outputs": [],
   "source": [
    "a=[10,20,30,40,50]\n",
    "b=[]\n",
    "for i in a:\n",
    "    b.append(i*2)"
   ]
  },
  {
   "cell_type": "code",
   "execution_count": 31,
   "id": "dc1120c9-616f-4d6f-aa78-5598105e6bd4",
   "metadata": {
    "scrolled": true
   },
   "outputs": [
    {
     "data": {
      "text/plain": [
       "[20, 40, 60, 80, 100]"
      ]
     },
     "execution_count": 31,
     "metadata": {},
     "output_type": "execute_result"
    }
   ],
   "source": [
    "list=[i*2 for i in a]\n",
    "list"
   ]
  },
  {
   "cell_type": "code",
   "execution_count": 32,
   "id": "e8d6172f-a16f-4b61-9ef8-c839c684c1fa",
   "metadata": {},
   "outputs": [
    {
     "data": {
      "text/plain": [
       "20"
      ]
     },
     "execution_count": 32,
     "metadata": {},
     "output_type": "execute_result"
    }
   ],
   "source": [
    "list.pop(0)"
   ]
  },
  {
   "cell_type": "code",
   "execution_count": 36,
   "id": "f7470167-6493-41cb-8e4b-638c0484e242",
   "metadata": {},
   "outputs": [],
   "source": [
    "list.remove(40)"
   ]
  },
  {
   "cell_type": "code",
   "execution_count": 38,
   "id": "6eeaf933-24b7-4dd9-ba7b-c0cf737db13a",
   "metadata": {},
   "outputs": [],
   "source": [
    "list.sort(reverse=True)"
   ]
  },
  {
   "cell_type": "code",
   "execution_count": 25,
   "id": "5054a7b5-4f83-4be9-a6b4-f735416a7fb8",
   "metadata": {},
   "outputs": [
    {
     "data": {
      "text/plain": [
       "['s', 'i', 'l', 'e', 'n', 't']"
      ]
     },
     "execution_count": 25,
     "metadata": {},
     "output_type": "execute_result"
    }
   ],
   "source": [
    "s1='silent'\n",
    "list(s1)\n"
   ]
  },
  {
   "cell_type": "code",
   "execution_count": 6,
   "id": "cc1c560c-ac55-4a6a-bf0c-82152dcf9f26",
   "metadata": {},
   "outputs": [
    {
     "name": "stdin",
     "output_type": "stream",
     "text": [
      "Enter the string: silent\n",
      "enter the string: listen\n"
     ]
    },
    {
     "name": "stdout",
     "output_type": "stream",
     "text": [
      "The given string is anagram\n"
     ]
    }
   ],
   "source": [
    "s1=input(\"Enter the string:\")\n",
    "s2=input(\"enter the string:\")\n",
    "def check(s1,s2):\n",
    "    if (sorted(s1)==sorted(s2)):\n",
    "        print(\"The given string is anagram\")\n",
    "    else:\n",
    "        print(\"the given string is not a anagram\")\n",
    "check(s1,s2)"
   ]
  },
  {
   "cell_type": "code",
   "execution_count": 17,
   "id": "d690f6b8-dfe8-410e-8f27-9e4a31cce0f8",
   "metadata": {
    "scrolled": true
   },
   "outputs": [
    {
     "name": "stdin",
     "output_type": "stream",
     "text": [
      "Enter the User_name suthan\n"
     ]
    },
    {
     "name": "stdout",
     "output_type": "stream",
     "text": [
      "Sorry it seems like you forgot your password \n",
      "if you want to change your password type(Yes/No)\n"
     ]
    },
    {
     "name": "stdin",
     "output_type": "stream",
     "text": [
      "Enter your choice: yes\n",
      "Enter the new password: 3456\n"
     ]
    },
    {
     "name": "stdout",
     "output_type": "stream",
     "text": [
      "{'virat': 12345, 'dhoni': 23456, 'kohli': 34567, 'mnaish': 45678, 'suthan': 3456}\n"
     ]
    }
   ],
   "source": [
    "data_base={\n",
    "    'virat':12345,\n",
    "    'dhoni':23456,\n",
    "    'kohli':34567,\n",
    "    'mnaish':45678\n",
    "}\n",
    "user_name=input(\"Enter the User_name\")\n",
    "if user_name in data_base.keys():\n",
    "    password=int(input(\"Enter the password :\"))\n",
    "    if password==data_base[user_name]:\n",
    "        print(\"Password is correct\")\n",
    "    else:\n",
    "        print(\"sorry,incorrect password please try again\")\n",
    "else:\n",
    "    print(\"Sorry it seems like you forgot your password \")\n",
    "    print(\"if you want to change your password type(Yes/No)\")\n",
    "    a=input(\"Enter your choice:\").capitalize()\n",
    "    if a=='Yes':\n",
    "        password=int(input(\"Enter the new password:\"))\n",
    "        data_base[user_name]=password\n",
    "        \n",
    "    else:\n",
    "        print(\"Thank you come again\")\n",
    "print(data_base)\n",
    "        "
   ]
  },
  {
   "cell_type": "code",
   "execution_count": 10,
   "id": "019e892e-0d0d-46d7-90b1-0961396876ae",
   "metadata": {
    "scrolled": true
   },
   "outputs": [
    {
     "name": "stdout",
     "output_type": "stream",
     "text": [
      "Enter your choice that you need to perform:\n",
      "For deposit enter choice 1 \n",
      "For withdraw enter choice 2\n",
      "For balance_check enter choice 3\n",
      "For Exit type 4\n"
     ]
    },
    {
     "name": "stdin",
     "output_type": "stream",
     "text": [
      "Enter your Choice: 3\n"
     ]
    },
    {
     "name": "stdout",
     "output_type": "stream",
     "text": [
      "Your current bank_balance is : 10000\n",
      "Enter your choice that you need to perform:\n",
      "For deposit enter choice 1 \n",
      "For withdraw enter choice 2\n",
      "For balance_check enter choice 3\n",
      "For Exit type 4\n"
     ]
    },
    {
     "name": "stdin",
     "output_type": "stream",
     "text": [
      "Enter your Choice: 4\n"
     ]
    },
    {
     "name": "stdout",
     "output_type": "stream",
     "text": [
      "Exit the loop\n"
     ]
    },
    {
     "ename": "NameError",
     "evalue": "name 'main' is not defined",
     "output_type": "error",
     "traceback": [
      "\u001b[1;31m---------------------------------------------------------------------------\u001b[0m",
      "\u001b[1;31mNameError\u001b[0m                                 Traceback (most recent call last)",
      "Cell \u001b[1;32mIn[10], line 35\u001b[0m\n\u001b[0;32m     32\u001b[0m         \u001b[38;5;28mprint\u001b[39m(\u001b[38;5;124m\"\u001b[39m\u001b[38;5;124mInvalid Choice\u001b[39m\u001b[38;5;124m\"\u001b[39m)\n\u001b[0;32m     34\u001b[0m \u001b[38;5;28;01mif\u001b[39;00m \u001b[38;5;18m__name__\u001b[39m\u001b[38;5;241m==\u001b[39m\u001b[38;5;124m\"\u001b[39m\u001b[38;5;124m__main__\u001b[39m\u001b[38;5;124m\"\u001b[39m:\n\u001b[1;32m---> 35\u001b[0m     main()\n",
      "\u001b[1;31mNameError\u001b[0m: name 'main' is not defined"
     ]
    }
   ],
   "source": [
    "class ATM():\n",
    "    def __init__(self,balance):\n",
    "        self.balance=int(balance)\n",
    "    def deposit(self,deposit_money):\n",
    "        self.balance + deposit_money\n",
    "        print(\"Your Balance after deposit is:\",self.balance+deposit_money)\n",
    "    def withdraw(self,with_draw):\n",
    "        self.balance=self.balance - with_draw\n",
    "        print(\"Your Balance after withdraw is:\",self.balance)\n",
    "    def balance_check(self):\n",
    "        print(\"Your current bank_balance is :\",self.balance)\n",
    "object1=ATM(10000)\n",
    "while True:\n",
    "    print(\"Enter your choice that you need to perform:\")\n",
    "    print(\"For deposit enter choice 1 \")\n",
    "    print(\"For withdraw enter choice 2\")\n",
    "    print(\"For balance_check enter choice 3\")\n",
    "    print(\"For Exit type 4\")\n",
    "    a=int(input('Enter your Choice:'))\n",
    "    if a==1:\n",
    "        deposit_money=int(input(\"Enter the amount to deposit:\"))\n",
    "        object1.deposit(deposit_money)\n",
    "    elif a==2:\n",
    "        with_draw=int(input(\"Enter the amount to Withdraw\"))\n",
    "        object1.withdraw(with_draw)\n",
    "    elif a==3:\n",
    "        object1.balance_check()\n",
    "    elif ( a==4):\n",
    "        print(\"Exit the loop\")\n",
    "        break\n",
    "    else:\n",
    "        print(\"Invalid Choice\")\n",
    "\n",
    "if __name__==\"__main__\":\n",
    "    main()\n",
    "\n",
    "    \n",
    "        \n",
    "\n",
    "\n",
    "      \n",
    "        \n",
    "        \n",
    "    "
   ]
  },
  {
   "cell_type": "code",
   "execution_count": 6,
   "id": "419ee4e0-9147-4d7c-96cf-3bc49ece8f3d",
   "metadata": {},
   "outputs": [
    {
     "name": "stdin",
     "output_type": "stream",
     "text": [
      "Enter the number 153\n"
     ]
    },
    {
     "name": "stdout",
     "output_type": "stream",
     "text": [
      "153\n"
     ]
    }
   ],
   "source": [
    "a=input(\"Enter the number\")\n",
    "\n",
    "sum=0\n",
    "for i in a:\n",
    "    b=int(i)**3\n",
    "    sum=sum+b\n",
    "if sum==a:\n",
    "    print(\"Its an armstrong number\")\n",
    "else:\n",
    "    print(\"Its not an armstrong\")\n",
    "    "
   ]
  },
  {
   "cell_type": "markdown",
   "id": "c245ffb4-7e53-46ec-9514-c2f3e344719b",
   "metadata": {},
   "source": [
    "set is unordered,\n",
    "set is mutable \n",
    "not allow duplicate"
   ]
  },
  {
   "cell_type": "code",
   "execution_count": 25,
   "id": "42caa4f8-c10f-40c4-a624-df64f1e6587d",
   "metadata": {
    "scrolled": true
   },
   "outputs": [
    {
     "data": {
      "text/plain": [
       "({3, 4, 7}, {0, 1, 2, 3, 4, 7, 8, 9, 56})"
      ]
     },
     "execution_count": 25,
     "metadata": {},
     "output_type": "execute_result"
    }
   ],
   "source": [
    "s={1,2,3,4,56,7}\n",
    "s2={7,3,4}\n",
    "\n",
    "s.intersection(s2),s.union(s2)"
   ]
  },
  {
   "cell_type": "code",
   "execution_count": 14,
   "id": "c1d0dcf7-ecd6-45bc-b3d7-d609aa2f539e",
   "metadata": {
    "scrolled": true
   },
   "outputs": [
    {
     "data": {
      "text/plain": [
       "False"
      ]
     },
     "execution_count": 14,
     "metadata": {},
     "output_type": "execute_result"
    }
   ],
   "source": [
    "s.issubset(s2)"
   ]
  },
  {
   "cell_type": "code",
   "execution_count": 15,
   "id": "c5bc4d1f-1fe7-4c3a-8f3b-af6c3f1b003d",
   "metadata": {
    "scrolled": true
   },
   "outputs": [
    {
     "data": {
      "text/plain": [
       "False"
      ]
     },
     "execution_count": 15,
     "metadata": {},
     "output_type": "execute_result"
    }
   ],
   "source": [
    "s.isdisjoint(s2)"
   ]
  },
  {
   "cell_type": "code",
   "execution_count": 18,
   "id": "a96ce30c-03b1-47ff-985b-f58db382418a",
   "metadata": {
    "scrolled": true
   },
   "outputs": [
    {
     "data": {
      "text/plain": [
       "{0, 1, 2, 3, 4, 7, 8, 9, 56}"
      ]
     },
     "execution_count": 18,
     "metadata": {},
     "output_type": "execute_result"
    }
   ],
   "source": [
    "s.update(s2)\n",
    "s"
   ]
  },
  {
   "cell_type": "code",
   "execution_count": 27,
   "id": "4523bdc4-4b80-402d-8232-b5fd2e2ec590",
   "metadata": {},
   "outputs": [
    {
     "data": {
      "text/plain": [
       "False"
      ]
     },
     "execution_count": 27,
     "metadata": {},
     "output_type": "execute_result"
    }
   ],
   "source": [
    "s2.issubset(s)"
   ]
  },
  {
   "cell_type": "code",
   "execution_count": 20,
   "id": "6d9f555a-1d61-4ce6-a126-28e4a3749376",
   "metadata": {},
   "outputs": [],
   "source": [
    "s.add(9)"
   ]
  },
  {
   "cell_type": "code",
   "execution_count": 22,
   "id": "34570cf3-5a49-41c6-a03b-7bce995abc14",
   "metadata": {},
   "outputs": [],
   "source": [
    "s.remove(1)"
   ]
  },
  {
   "cell_type": "code",
   "execution_count": 24,
   "id": "06ad6490-39e9-4c43-a61d-b6dfa0a39680",
   "metadata": {
    "scrolled": true
   },
   "outputs": [
    {
     "data": {
      "text/plain": [
       "{3, 4, 7, 9, 56}"
      ]
     },
     "execution_count": 24,
     "metadata": {},
     "output_type": "execute_result"
    }
   ],
   "source": [
    "s"
   ]
  },
  {
   "cell_type": "code",
   "execution_count": 29,
   "id": "6ebdcb7d-9f6b-4553-ab93-510e5e223f07",
   "metadata": {
    "scrolled": true
   },
   "outputs": [
    {
     "data": {
      "text/plain": [
       "{0, 1, 2, 3, 4, 7, 8, 9, 56}"
      ]
     },
     "execution_count": 29,
     "metadata": {},
     "output_type": "execute_result"
    }
   ],
   "source": [
    "s.union(s2)"
   ]
  },
  {
   "cell_type": "markdown",
   "id": "d5ef1d8f-0036-4953-b378-783e08b35aa3",
   "metadata": {},
   "source": [
    "Three types of error \n",
    "\n",
    "*syntax error occurs due to mistake in the syntax \n",
    "* runtime error occurs during runtime\n",
    "* syntactic error its execute but we can't get expected output"
   ]
  },
  {
   "cell_type": "code",
   "execution_count": 50,
   "id": "a73b4139-ca8a-42f5-8633-ca27126a7b70",
   "metadata": {},
   "outputs": [
    {
     "name": "stdout",
     "output_type": "stream",
     "text": [
      "caught:division by zero\n",
      "caught:unsupported operand type(s) for +: 'int' and 'str'\n",
      "caught:list index out of range\n",
      "caught:invalid literal for int() with base 10: 'abc'\n",
      "Thank you\n"
     ]
    }
   ],
   "source": [
    "def perform_operation():\n",
    "    try:\n",
    "          \n",
    "        r=10/0\n",
    "    except ZeroDivisionError as e:\n",
    "        print(f'caught:{e}')\n",
    "    try:\n",
    "        r=10+'3'\n",
    "    except Exception as e:\n",
    "    \n",
    "        print(\"caught:{}\".format(e))\n",
    "    try:\n",
    "        r=str(a)\n",
    "        a+3\n",
    "    except Exception as e:\n",
    "        print(\"caught:{}\".format(e))\n",
    "    try:\n",
    "        r=[1,2,3]\n",
    "        o=r[10]\n",
    "    except Exception as e:\n",
    "        print(\"caught:{}\".format(e))\n",
    "    try:\n",
    "        r=int('abc')\n",
    "    except Exception as e :\n",
    "        print(\"caught:{}\".format(e))\n",
    "    finally:\n",
    "        print(\"Thank you\")\n",
    "def main():\n",
    "    perform_operation()\n",
    "if __name__==\"__main__\":\n",
    "    main()\n",
    "    \n"
   ]
  },
  {
   "cell_type": "markdown",
   "id": "edc1d57b-ccf7-45e0-986a-91025f65ab29",
   "metadata": {},
   "source": [
    "identity operator ,is,isnot"
   ]
  },
  {
   "cell_type": "markdown",
   "id": "d5f1d9b6-1dfe-4720-a2c5-894893e333a7",
   "metadata": {},
   "source": [
    "member ship operator in.not in"
   ]
  },
  {
   "cell_type": "code",
   "execution_count": 51,
   "id": "87a1ead2-3503-4ac2-a8f5-f8514018200e",
   "metadata": {},
   "outputs": [
    {
     "name": "stdout",
     "output_type": "stream",
     "text": [
      "True\n"
     ]
    }
   ],
   "source": [
    "a=\"I am student who persuing Data Science\"\n",
    "print('I' in a)"
   ]
  },
  {
   "cell_type": "code",
   "execution_count": 52,
   "id": "82d8c569-cc6f-453c-8d18-e216a6fb16a1",
   "metadata": {},
   "outputs": [
    {
     "data": {
      "text/plain": [
       "'0b11'"
      ]
     },
     "execution_count": 52,
     "metadata": {},
     "output_type": "execute_result"
    }
   ],
   "source": [
    "bin(3)"
   ]
  },
  {
   "cell_type": "code",
   "execution_count": 53,
   "id": "77bfb2f4-b809-4b20-bf40-7c9af073c2e2",
   "metadata": {
    "scrolled": true
   },
   "outputs": [
    {
     "name": "stdout",
     "output_type": "stream",
     "text": [
      "7\n"
     ]
    }
   ],
   "source": [
    "print(7|4)"
   ]
  },
  {
   "cell_type": "code",
   "execution_count": 54,
   "id": "d6b3e322-007e-46be-93ad-2dadd51cacd3",
   "metadata": {
    "scrolled": true
   },
   "outputs": [
    {
     "name": "stdout",
     "output_type": "stream",
     "text": [
      "79\n"
     ]
    }
   ],
   "source": [
    "print(78|9)"
   ]
  },
  {
   "cell_type": "code",
   "execution_count": 55,
   "id": "a81768d3-f171-45e3-8a71-982dfa4cfb3a",
   "metadata": {
    "scrolled": true
   },
   "outputs": [
    {
     "data": {
      "text/plain": [
       "'0b1001111'"
      ]
     },
     "execution_count": 55,
     "metadata": {},
     "output_type": "execute_result"
    }
   ],
   "source": [
    "bin(79)"
   ]
  },
  {
   "cell_type": "code",
   "execution_count": 56,
   "id": "e6e7093d-63ab-4817-ae75-e65952ceeea4",
   "metadata": {},
   "outputs": [
    {
     "name": "stdout",
     "output_type": "stream",
     "text": [
      "2\n"
     ]
    }
   ],
   "source": [
    "print(5^7)"
   ]
  },
  {
   "cell_type": "code",
   "execution_count": 57,
   "id": "957c0249-709a-4d14-a213-96c5e2888a6f",
   "metadata": {},
   "outputs": [
    {
     "data": {
      "text/plain": [
       "'0b101000'"
      ]
     },
     "execution_count": 57,
     "metadata": {},
     "output_type": "execute_result"
    }
   ],
   "source": [
    "bin(40)"
   ]
  },
  {
   "cell_type": "code",
   "execution_count": 58,
   "id": "a2ee195b-45ef-4370-90a2-f58bd8dc226c",
   "metadata": {
    "scrolled": true
   },
   "outputs": [
    {
     "data": {
      "text/plain": [
       "80"
      ]
     },
     "execution_count": 58,
     "metadata": {},
     "output_type": "execute_result"
    }
   ],
   "source": [
    "40<<1"
   ]
  },
  {
   "cell_type": "code",
   "execution_count": 1,
   "id": "ee906d1e-bfb7-403a-8d2d-1b360910488c",
   "metadata": {},
   "outputs": [],
   "source": [
    "import numpy as np\n",
    "a=np.array([1,2,3,4,5])\n",
    "print(a)\n"
   ]
  },
  {
   "cell_type": "code",
   "execution_count": 2,
   "id": "f4a6dc13-8e1c-4ed7-bc7b-275e011ed817",
   "metadata": {},
   "outputs": [
    {
     "name": "stdout",
     "output_type": "stream",
     "text": [
      "[[1 2 3]\n",
      " [4 5 6]]\n"
     ]
    }
   ],
   "source": [
    "\n",
    "b=np.array([[1,2,3],[4,5,6]])\n",
    "print(b)"
   ]
  },
  {
   "cell_type": "code",
   "execution_count": 3,
   "id": "ccc3505b-954d-4d56-be5a-23af8dca649b",
   "metadata": {},
   "outputs": [
    {
     "data": {
      "text/plain": [
       "(2, 3)"
      ]
     },
     "execution_count": 3,
     "metadata": {},
     "output_type": "execute_result"
    }
   ],
   "source": [
    "b.shape"
   ]
  },
  {
   "cell_type": "code",
   "execution_count": 4,
   "id": "286449f8-590f-4cc8-99df-9c708309d496",
   "metadata": {},
   "outputs": [
    {
     "data": {
      "text/plain": [
       "6"
      ]
     },
     "execution_count": 4,
     "metadata": {},
     "output_type": "execute_result"
    }
   ],
   "source": [
    "b.max()"
   ]
  },
  {
   "cell_type": "code",
   "execution_count": 6,
   "id": "b7a4323f-c963-476f-a267-e8d6af082197",
   "metadata": {
    "scrolled": true
   },
   "outputs": [
    {
     "data": {
      "text/plain": [
       "1"
      ]
     },
     "execution_count": 6,
     "metadata": {},
     "output_type": "execute_result"
    }
   ],
   "source": [
    "b.min()\n"
   ]
  },
  {
   "cell_type": "code",
   "execution_count": 7,
   "id": "12595cd8-a016-458d-aa0c-4f6c4f2e48db",
   "metadata": {
    "scrolled": true
   },
   "outputs": [
    {
     "data": {
      "text/plain": [
       "array([[2],\n",
       "       [5]])"
      ]
     },
     "execution_count": 7,
     "metadata": {},
     "output_type": "execute_result"
    }
   ],
   "source": [
    "b[:,1:2]"
   ]
  },
  {
   "cell_type": "code",
   "execution_count": 8,
   "id": "890dbd65-24ef-4e80-92d8-595f1eb5329f",
   "metadata": {
    "scrolled": true
   },
   "outputs": [
    {
     "data": {
      "text/plain": [
       "6"
      ]
     },
     "execution_count": 8,
     "metadata": {},
     "output_type": "execute_result"
    }
   ],
   "source": [
    "b[-1,-1]"
   ]
  },
  {
   "cell_type": "code",
   "execution_count": 10,
   "id": "053f8a50-eb86-47cd-af4f-af89e5aac620",
   "metadata": {
    "scrolled": true
   },
   "outputs": [
    {
     "data": {
      "text/plain": [
       "array([[1, 2],\n",
       "       [3, 4],\n",
       "       [5, 6]])"
      ]
     },
     "execution_count": 10,
     "metadata": {},
     "output_type": "execute_result"
    }
   ],
   "source": [
    "b.reshape(3,2)"
   ]
  },
  {
   "cell_type": "code",
   "execution_count": 12,
   "id": "73b7f727-5055-4c09-9c81-c82b90987aea",
   "metadata": {
    "scrolled": true
   },
   "outputs": [
    {
     "data": {
      "text/plain": [
       "dtype('int32')"
      ]
     },
     "execution_count": 12,
     "metadata": {},
     "output_type": "execute_result"
    }
   ],
   "source": [
    "b.dtype"
   ]
  },
  {
   "cell_type": "code",
   "execution_count": 17,
   "id": "aef06f0f-4ce7-426c-9dfb-31230e9e08a5",
   "metadata": {},
   "outputs": [
    {
     "data": {
      "text/plain": [
       "array([[0., 0., 0.],\n",
       "       [0., 0., 0.],\n",
       "       [0., 0., 0.],\n",
       "       [0., 0., 0.]])"
      ]
     },
     "execution_count": 17,
     "metadata": {},
     "output_type": "execute_result"
    }
   ],
   "source": [
    "np.zeros((4,3))\n"
   ]
  },
  {
   "cell_type": "code",
   "execution_count": 18,
   "id": "f1399556-73bf-4761-a85b-93ba151f257c",
   "metadata": {
    "scrolled": true
   },
   "outputs": [
    {
     "data": {
      "text/plain": [
       "array([0, 1, 2, 3, 4, 5])"
      ]
     },
     "execution_count": 18,
     "metadata": {},
     "output_type": "execute_result"
    }
   ],
   "source": [
    "np.arange(6)"
   ]
  },
  {
   "cell_type": "code",
   "execution_count": 21,
   "id": "241987d5-7264-44ad-994b-b3299b7f3130",
   "metadata": {},
   "outputs": [
    {
     "data": {
      "text/plain": [
       "array([23, 25, 27, 29, 31, 33, 35, 37])"
      ]
     },
     "execution_count": 21,
     "metadata": {},
     "output_type": "execute_result"
    }
   ],
   "source": [
    "np.arange(23,39,2)"
   ]
  },
  {
   "cell_type": "code",
   "execution_count": 22,
   "id": "57f841ec-f99b-4189-a2a7-ebf989e19bea",
   "metadata": {
    "scrolled": true
   },
   "outputs": [
    {
     "data": {
      "text/plain": [
       "array([ 5.        ,  5.83333333,  6.66666667,  7.5       ,  8.33333333,\n",
       "        9.16666667, 10.        ])"
      ]
     },
     "execution_count": 22,
     "metadata": {},
     "output_type": "execute_result"
    }
   ],
   "source": [
    "np.linspace(5,10,7)"
   ]
  },
  {
   "cell_type": "code",
   "execution_count": 24,
   "id": "b8ec619b-ab81-4d2e-9ea1-e5ff05200178",
   "metadata": {},
   "outputs": [
    {
     "data": {
      "text/plain": [
       "array([ 6. ,  7.2,  8.4,  9.6, 10.8, 12. ])"
      ]
     },
     "execution_count": 24,
     "metadata": {},
     "output_type": "execute_result"
    }
   ],
   "source": [
    "np.linspace(6,12,6) # it gives random number all are spaced in equal intervel"
   ]
  },
  {
   "cell_type": "code",
   "execution_count": 25,
   "id": "35e361f6-c65a-4e99-ae04-58430fe3fed8",
   "metadata": {
    "scrolled": true
   },
   "outputs": [
    {
     "data": {
      "text/plain": [
       "array([[8, 8, 8],\n",
       "       [8, 8, 8]])"
      ]
     },
     "execution_count": 25,
     "metadata": {},
     "output_type": "execute_result"
    }
   ],
   "source": [
    "np.full((2,3),8,dtype='int32')"
   ]
  },
  {
   "cell_type": "code",
   "execution_count": 27,
   "id": "f372c5c9-8280-4a32-8c58-f395c67692bc",
   "metadata": {},
   "outputs": [
    {
     "data": {
      "text/plain": [
       "408"
      ]
     },
     "execution_count": 27,
     "metadata": {},
     "output_type": "execute_result"
    }
   ],
   "source": [
    "np.random.randint(5,456)"
   ]
  },
  {
   "cell_type": "code",
   "execution_count": 28,
   "id": "fcb0b2d7-bc82-4349-a748-5ead04b22816",
   "metadata": {},
   "outputs": [
    {
     "data": {
      "text/plain": [
       "array([[0.21957642, 0.46956362, 0.60289636, 0.87053789, 0.50222468],\n",
       "       [0.55397455, 0.6063886 , 0.47545471, 0.84627309, 0.77874272],\n",
       "       [0.50646002, 0.4587881 , 0.51159225, 0.55808809, 0.33069911],\n",
       "       [0.25003062, 0.5123973 , 0.61104141, 0.27692949, 0.34854011]])"
      ]
     },
     "execution_count": 28,
     "metadata": {},
     "output_type": "execute_result"
    }
   ],
   "source": [
    "np.random.random((4,5))"
   ]
  },
  {
   "cell_type": "code",
   "execution_count": 29,
   "id": "00de3a83-a9b0-4ba4-a423-6cd1ccdafa7a",
   "metadata": {},
   "outputs": [
    {
     "data": {
      "text/plain": [
       "(2, 3)"
      ]
     },
     "execution_count": 29,
     "metadata": {},
     "output_type": "execute_result"
    }
   ],
   "source": [
    "b.shape"
   ]
  },
  {
   "cell_type": "code",
   "execution_count": 30,
   "id": "1485c0fe-1783-49c9-8f44-d317fa36d517",
   "metadata": {},
   "outputs": [
    {
     "data": {
      "text/plain": [
       "array([[1, 2],\n",
       "       [3, 4],\n",
       "       [5, 6]])"
      ]
     },
     "execution_count": 30,
     "metadata": {},
     "output_type": "execute_result"
    }
   ],
   "source": [
    "b.reshape(3,2)"
   ]
  },
  {
   "cell_type": "code",
   "execution_count": 35,
   "id": "dd8e6a01-17d7-47f1-8909-f853cccb2e73",
   "metadata": {},
   "outputs": [],
   "source": [
    "b.shape=(6,1)"
   ]
  },
  {
   "cell_type": "code",
   "execution_count": 36,
   "id": "55f80cc4-f7e9-4119-b811-fd4f2479d0ea",
   "metadata": {
    "scrolled": true
   },
   "outputs": [
    {
     "data": {
      "text/plain": [
       "array([[1],\n",
       "       [2],\n",
       "       [3],\n",
       "       [4],\n",
       "       [5],\n",
       "       [6]])"
      ]
     },
     "execution_count": 36,
     "metadata": {},
     "output_type": "execute_result"
    }
   ],
   "source": [
    "b"
   ]
  },
  {
   "cell_type": "code",
   "execution_count": 38,
   "id": "f382f78b-5af1-49c0-b6e2-3b9cea25ad6d",
   "metadata": {
    "scrolled": true
   },
   "outputs": [
    {
     "data": {
      "text/plain": [
       "6"
      ]
     },
     "execution_count": 38,
     "metadata": {},
     "output_type": "execute_result"
    }
   ],
   "source": [
    "b.size"
   ]
  },
  {
   "cell_type": "code",
   "execution_count": 40,
   "id": "f9a5c8f3-e0ca-410a-ad6f-395e63ae49d3",
   "metadata": {
    "scrolled": true
   },
   "outputs": [
    {
     "data": {
      "text/plain": [
       "2"
      ]
     },
     "execution_count": 40,
     "metadata": {},
     "output_type": "execute_result"
    }
   ],
   "source": [
    "b.ndim"
   ]
  },
  {
   "cell_type": "code",
   "execution_count": 54,
   "id": "3109a194-a208-4cb0-9756-a2ee45da7184",
   "metadata": {
    "scrolled": true
   },
   "outputs": [],
   "source": [
    "a=np.arange(24)\n",
    "b=a.reshape(2,4,3)"
   ]
  },
  {
   "cell_type": "code",
   "execution_count": 57,
   "id": "be7ad65a-8de5-4022-9ae7-9cb4e1e26ea0",
   "metadata": {},
   "outputs": [
    {
     "data": {
      "text/plain": [
       "array([[[ 0,  1,  2],\n",
       "        [ 3,  4,  5],\n",
       "        [ 6,  7,  8],\n",
       "        [ 9, 10, 11]],\n",
       "\n",
       "       [[12, 13, 14],\n",
       "        [15, 16, 17],\n",
       "        [18, 19, 20],\n",
       "        [21, 22, 23]]])"
      ]
     },
     "execution_count": 57,
     "metadata": {},
     "output_type": "execute_result"
    }
   ],
   "source": [
    "b"
   ]
  },
  {
   "cell_type": "code",
   "execution_count": 56,
   "id": "9ba73384-b40d-40d1-98a5-5362b15a9e9d",
   "metadata": {},
   "outputs": [
    {
     "data": {
      "text/plain": [
       "3"
      ]
     },
     "execution_count": 56,
     "metadata": {},
     "output_type": "execute_result"
    }
   ],
   "source": [
    "b.ndim"
   ]
  },
  {
   "cell_type": "code",
   "execution_count": 59,
   "id": "47451ba9-1e23-419a-9fee-02d858cbc416",
   "metadata": {
    "scrolled": true
   },
   "outputs": [
    {
     "data": {
      "text/plain": [
       "array([ 7,  9, 11, 13,  9])"
      ]
     },
     "execution_count": 59,
     "metadata": {},
     "output_type": "execute_result"
    }
   ],
   "source": [
    "a=np.array([1,2,3,4,5])\n",
    "b=np.array([6,7,8,9,4])\n",
    "a+b"
   ]
  },
  {
   "cell_type": "code",
   "execution_count": 66,
   "id": "1371851c-8432-464a-a293-64a5025b2199",
   "metadata": {},
   "outputs": [
    {
     "data": {
      "text/plain": [
       "array([ 5, 13])"
      ]
     },
     "execution_count": 66,
     "metadata": {},
     "output_type": "execute_result"
    }
   ],
   "source": [
    "np.sum([[1,2],[4,5]],axis=0)\n",
    "np.sum([[2,3],[6,7]],axis=1)\n"
   ]
  },
  {
   "cell_type": "code",
   "execution_count": 68,
   "id": "5389044a-e001-4343-b0a0-d559642c3bc3",
   "metadata": {},
   "outputs": [
    {
     "data": {
      "text/plain": [
       "array([1.        , 1.41421356, 1.73205081, 2.        , 2.23606798])"
      ]
     },
     "execution_count": 68,
     "metadata": {},
     "output_type": "execute_result"
    }
   ],
   "source": [
    "np.sqrt(a)"
   ]
  },
  {
   "cell_type": "code",
   "execution_count": 69,
   "id": "c09806c0-62a2-44d8-a828-ae326a182e44",
   "metadata": {},
   "outputs": [
    {
     "data": {
      "text/plain": [
       "array([ 0.54030231, -0.41614684, -0.9899925 , -0.65364362,  0.28366219])"
      ]
     },
     "execution_count": 69,
     "metadata": {},
     "output_type": "execute_result"
    }
   ],
   "source": [
    "np.cos(a)"
   ]
  },
  {
   "cell_type": "code",
   "execution_count": 70,
   "id": "57c9a545-0201-43e5-88ac-320c20c90bf3",
   "metadata": {},
   "outputs": [
    {
     "data": {
      "text/plain": [
       "array([ 0.84147098,  0.90929743,  0.14112001, -0.7568025 , -0.95892427])"
      ]
     },
     "execution_count": 70,
     "metadata": {},
     "output_type": "execute_result"
    }
   ],
   "source": [
    "np.sin(a)"
   ]
  },
  {
   "cell_type": "code",
   "execution_count": 71,
   "id": "fbe76f30-9529-494e-9713-6395b824fb60",
   "metadata": {},
   "outputs": [
    {
     "data": {
      "text/plain": [
       "array([ 1.55740772, -2.18503986, -0.14254654,  1.15782128, -3.38051501])"
      ]
     },
     "execution_count": 71,
     "metadata": {},
     "output_type": "execute_result"
    }
   ],
   "source": [
    "np.tan(a)"
   ]
  },
  {
   "cell_type": "code",
   "execution_count": 73,
   "id": "a59e1188-4be8-49fa-81c0-f06943a8cab9",
   "metadata": {
    "scrolled": true
   },
   "outputs": [
    {
     "data": {
      "text/plain": [
       "array([False, False, False, False, False])"
      ]
     },
     "execution_count": 73,
     "metadata": {},
     "output_type": "execute_result"
    }
   ],
   "source": [
    "np.equal(a,b)"
   ]
  },
  {
   "cell_type": "markdown",
   "id": "4c158753-6ab7-4a65-b847-9043cafeb76d",
   "metadata": {},
   "source": [
    "### Aggregate function"
   ]
  },
  {
   "cell_type": "code",
   "execution_count": 81,
   "id": "b10c6b5d-caf7-4d90-9216-b879833003bd",
   "metadata": {
    "scrolled": true
   },
   "outputs": [
    {
     "data": {
      "text/plain": [
       "(14.0, 112, 1, 54)"
      ]
     },
     "execution_count": 81,
     "metadata": {},
     "output_type": "execute_result"
    }
   ],
   "source": [
    "import numpy as np\n",
    "a=np.array([[3,5,6,7],[1,2,34,54]])\n",
    "b=np.array([8,9,4,3])\n",
    "a.mean(),a.sum(),a.min(),a.max()"
   ]
  },
  {
   "cell_type": "code",
   "execution_count": 83,
   "id": "c270b0ed-5ba5-4cbe-89cc-97406ac4ab24",
   "metadata": {
    "scrolled": true
   },
   "outputs": [
    {
     "data": {
      "text/plain": [
       "array([[ 3,  5,  6,  7],\n",
       "       [ 1,  2, 34, 54]])"
      ]
     },
     "execution_count": 83,
     "metadata": {},
     "output_type": "execute_result"
    }
   ],
   "source": [
    "a[:,:]"
   ]
  },
  {
   "cell_type": "code",
   "execution_count": null,
   "id": "0c629607-9ad4-458d-b5e8-baa075b7aca8",
   "metadata": {},
   "outputs": [],
   "source": [
    "np.concatenate,np.hsplit,np."
   ]
  },
  {
   "cell_type": "code",
   "execution_count": null,
   "id": "82d0503c-9097-41e4-8070-ca84513fa650",
   "metadata": {},
   "outputs": [],
   "source": [
    "#QR is QR decomposition technique \n",
    "numpy.linalgqr()"
   ]
  },
  {
   "cell_type": "code",
   "execution_count": 85,
   "id": "0cb3c9a1-2781-4510-a9eb-468abf240b3f",
   "metadata": {},
   "outputs": [
    {
     "name": "stdout",
     "output_type": "stream",
     "text": [
      "Collecting qrcode\n",
      "  Downloading qrcode-7.4.2-py3-none-any.whl.metadata (17 kB)\n",
      "Requirement already satisfied: typing-extensions in c:\\users\\user\\anaconda3\\lib\\site-packages (from qrcode) (4.9.0)\n",
      "Collecting pypng (from qrcode)\n",
      "  Downloading pypng-0.20220715.0-py3-none-any.whl.metadata (13 kB)\n",
      "Requirement already satisfied: colorama in c:\\users\\user\\anaconda3\\lib\\site-packages (from qrcode) (0.4.6)\n",
      "Downloading qrcode-7.4.2-py3-none-any.whl (46 kB)\n",
      "   ---------------------------------------- 0.0/46.2 kB ? eta -:--:--\n",
      "   ----------------------------------- ---- 41.0/46.2 kB 667.8 kB/s eta 0:00:01\n",
      "   ----------------------------------- ---- 41.0/46.2 kB 667.8 kB/s eta 0:00:01\n",
      "   ----------------------------------- ---- 41.0/46.2 kB 667.8 kB/s eta 0:00:01\n",
      "   ---------------------------------------- 46.2/46.2 kB 177.1 kB/s eta 0:00:00\n",
      "Downloading pypng-0.20220715.0-py3-none-any.whl (58 kB)\n",
      "   ---------------------------------------- 0.0/58.1 kB ? eta -:--:--\n",
      "   ----------------------------------- ---- 51.2/58.1 kB 1.3 MB/s eta 0:00:01\n",
      "   ----------------------------------- ---- 51.2/58.1 kB 1.3 MB/s eta 0:00:01\n",
      "   ----------------------------------- ---- 51.2/58.1 kB 1.3 MB/s eta 0:00:01\n",
      "   ----------------------------------- ---- 51.2/58.1 kB 1.3 MB/s eta 0:00:01\n",
      "   ---------------------------------------- 58.1/58.1 kB 218.3 kB/s eta 0:00:00\n",
      "Installing collected packages: pypng, qrcode\n",
      "Successfully installed pypng-0.20220715.0 qrcode-7.4.2\n",
      "Note: you may need to restart the kernel to use updated packages.\n"
     ]
    }
   ],
   "source": [
    "pip install qrcode"
   ]
  },
  {
   "cell_type": "code",
   "execution_count": 87,
   "id": "cd4d010c-c7bf-4fb1-9a91-ae61673ca8e3",
   "metadata": {},
   "outputs": [],
   "source": [
    "import qrcode as qr"
   ]
  },
  {
   "cell_type": "code",
   "execution_count": 90,
   "id": "ba18c85e-f34c-459b-9e97-3869c0fe77a7",
   "metadata": {
    "scrolled": true
   },
   "outputs": [
    {
     "name": "stdout",
     "output_type": "stream",
     "text": [
      "nQ:\n",
      " [[-0.9486833  -0.31622777]\n",
      " [-0.31622777  0.9486833 ]]\n",
      "nR:\n",
      " [[ -3.16227766  -5.37587202 -16.44384383 -23.71708245]\n",
      " [  0.           0.31622777  30.35786554  49.01530373]]\n"
     ]
    }
   ],
   "source": [
    "q,r=np.linalg.qr(a)\n",
    "print('nQ:\\n',q)\n",
    "print('nR:\\n',r)\n",
    "qr_data=str(q)+'\\n'+str(r)"
   ]
  },
  {
   "cell_type": "code",
   "execution_count": 93,
   "id": "1d96fba8-6b95-4db5-8652-73fcbb2f4965",
   "metadata": {},
   "outputs": [
    {
     "name": "stdout",
     "output_type": "stream",
     "text": [
      "QR code generated \n"
     ]
    }
   ],
   "source": [
    "qr=qr.make(qr_data)\n",
    "qr.save(\"qr_code1.png\")\n",
    "print(\"QR code generated \")"
   ]
  },
  {
   "cell_type": "code",
   "execution_count": 106,
   "id": "3b33f0a9-8bb7-47da-90b8-71b6290e8285",
   "metadata": {},
   "outputs": [],
   "source": [
    "from PIL import Image \n",
    "from numpy import asarray "
   ]
  },
  {
   "cell_type": "code",
   "execution_count": 107,
   "id": "dd58debc-97c6-4671-bbb9-5533fb0db46c",
   "metadata": {
    "scrolled": true
   },
   "outputs": [
    {
     "name": "stdout",
     "output_type": "stream",
     "text": [
      "[[[ 84  83  88]\n",
      "  [ 82  81  86]\n",
      "  [ 78  77  82]\n",
      "  ...\n",
      "  [ 77  76  83]\n",
      "  [ 73  72  79]\n",
      "  [ 72  71  78]]\n",
      "\n",
      " [[ 80  80  84]\n",
      "  [ 79  78  83]\n",
      "  [ 78  77  82]\n",
      "  ...\n",
      "  [ 69  68  75]\n",
      "  [ 69  68  75]\n",
      "  [ 68  66  74]]\n",
      "\n",
      " [[ 73  73  77]\n",
      "  [ 75  74  79]\n",
      "  [ 77  76  81]\n",
      "  ...\n",
      "  [ 65  64  71]\n",
      "  [ 66  65  72]\n",
      "  [ 66  65  72]]\n",
      "\n",
      " ...\n",
      "\n",
      " [[176 177 199]\n",
      "  [176 177 199]\n",
      "  [176 177 199]\n",
      "  ...\n",
      "  [177 178 201]\n",
      "  [177 178 201]\n",
      "  [177 178 201]]\n",
      "\n",
      " [[176 177 199]\n",
      "  [176 177 199]\n",
      "  [176 177 199]\n",
      "  ...\n",
      "  [177 178 201]\n",
      "  [177 178 201]\n",
      "  [177 178 201]]\n",
      "\n",
      " [[175 176 198]\n",
      "  [175 176 198]\n",
      "  [176 177 199]\n",
      "  ...\n",
      "  [177 178 201]\n",
      "  [177 178 201]\n",
      "  [177 178 201]]]\n"
     ]
    }
   ],
   "source": [
    "img1=Image.open(r'C:\\Users\\user\\Downloads\\wood-powder-500x500.webp')\n",
    "numpydata=asarray(img1)\n",
    "print(numpydata)\n"
   ]
  },
  {
   "cell_type": "code",
   "execution_count": 10,
   "id": "8611f875-e0a5-40c7-a278-94cf2f3c7033",
   "metadata": {},
   "outputs": [
    {
     "data": {
      "text/plain": [
       "5.0"
      ]
     },
     "execution_count": 10,
     "metadata": {},
     "output_type": "execute_result"
    }
   ],
   "source": [
    "import numpy as np\n",
    "a=np.array([4,5,3,6,8,2,7,])\n",
    "np.mean(a)"
   ]
  },
  {
   "cell_type": "code",
   "execution_count": 14,
   "id": "b95a56e2-49f1-4778-a3c8-f279d5121ffc",
   "metadata": {},
   "outputs": [],
   "source": [
    "b=[2,4,5,5,6,7,8,8]"
   ]
  },
  {
   "cell_type": "code",
   "execution_count": 16,
   "id": "72b29d63-1585-4824-845e-334ca77f386c",
   "metadata": {},
   "outputs": [
    {
     "data": {
      "text/plain": [
       "5.5"
      ]
     },
     "execution_count": 16,
     "metadata": {},
     "output_type": "execute_result"
    }
   ],
   "source": [
    "np.median(b)"
   ]
  },
  {
   "cell_type": "code",
   "execution_count": 17,
   "id": "f2324e76-0a45-48be-aec0-5e37b7051323",
   "metadata": {},
   "outputs": [
    {
     "data": {
      "text/plain": [
       "5.5"
      ]
     },
     "execution_count": 17,
     "metadata": {},
     "output_type": "execute_result"
    }
   ],
   "source": [
    "np.percentile(b,50)"
   ]
  },
  {
   "cell_type": "code",
   "execution_count": 15,
   "id": "3d416963-07a1-41dc-9140-35ecbee66f51",
   "metadata": {},
   "outputs": [
    {
     "name": "stdout",
     "output_type": "stream",
     "text": [
      "[5, 8]\n"
     ]
    }
   ],
   "source": [
    "from statistics import multimode\n",
    "modes=multimode(b)\n",
    "print(modes)"
   ]
  },
  {
   "cell_type": "code",
   "execution_count": 19,
   "id": "f4f80a6e-2e07-4558-be39-e33e62072097",
   "metadata": {},
   "outputs": [
    {
     "data": {
      "text/plain": [
       "array([-28,  -1,   2,   4,   6,   7,   8,   9,  36])"
      ]
     },
     "execution_count": 19,
     "metadata": {},
     "output_type": "execute_result"
    }
   ],
   "source": [
    "data_points=[4,6,2,8,9,7,-1,36,-28]\n",
    "sorted_data=np.sort(data_points)\n",
    "sorted_data"
   ]
  },
  {
   "cell_type": "code",
   "execution_count": 25,
   "id": "951ed53a-1aa0-4481-8077-322c91b17ae6",
   "metadata": {},
   "outputs": [],
   "source": [
    "Q1=np.percentile(sorted_data,25)\n",
    "Q3=np.percentile(sorted_data,75)"
   ]
  },
  {
   "cell_type": "code",
   "execution_count": 26,
   "id": "fb7b8ccf-b5a3-43ce-a929-9707d2358514",
   "metadata": {
    "scrolled": true
   },
   "outputs": [
    {
     "data": {
      "text/plain": [
       "(2.0, 8.0)"
      ]
     },
     "execution_count": 26,
     "metadata": {},
     "output_type": "execute_result"
    }
   ],
   "source": [
    "Q1,Q3"
   ]
  },
  {
   "cell_type": "code",
   "execution_count": 27,
   "id": "5a36022a-60c2-4ff8-824b-c19c7211020c",
   "metadata": {},
   "outputs": [],
   "source": [
    "IQR=Q3-Q1"
   ]
  },
  {
   "cell_type": "code",
   "execution_count": 29,
   "id": "70c7b6b7-54a6-4446-9dac-d3c17e587c7c",
   "metadata": {
    "scrolled": true
   },
   "outputs": [
    {
     "name": "stdout",
     "output_type": "stream",
     "text": [
      "Sorted_data [-28  -1   2   4   6   7   8   9  36]\n",
      "The inter quartile_range Q1 2.0\n",
      "The inter quartile_range Q2 8.0\n",
      "IQR 6.0\n"
     ]
    }
   ],
   "source": [
    "print(\"Sorted_data\",sorted_data)\n",
    "print(\"The inter quartile_range Q1\",Q1)\n",
    "print(\"The inter quartile_range Q2\",Q3)\n",
    "print(\"IQR\",IQR)"
   ]
  },
  {
   "cell_type": "code",
   "execution_count": 32,
   "id": "7fe22a30-b78b-475b-be56-34a429e62446",
   "metadata": {
    "scrolled": true
   },
   "outputs": [
    {
     "name": "stdout",
     "output_type": "stream",
     "text": [
      "Lower Bound -7.0\n",
      "Upper Bound 17.0\n"
     ]
    }
   ],
   "source": [
    "lower_bound=Q1-1.5*IQR\n",
    "upper_bound=Q3+1.5*IQR\n",
    "print(\"Lower Bound\",lower_bound)\n",
    "print(\"Upper Bound\",upper_bound)"
   ]
  },
  {
   "cell_type": "code",
   "execution_count": 36,
   "id": "18bfd6d9-8985-4178-b321-cb5952d06cc0",
   "metadata": {},
   "outputs": [
    {
     "name": "stdout",
     "output_type": "stream",
     "text": [
      "Z1:(50-50)/15=0.0\n",
      "Z2:(70-50)/15=1.3333333333333333\n"
     ]
    }
   ],
   "source": [
    "mu=50\n",
    "sigma=15\n",
    "x1=50\n",
    "x2=70\n",
    "z1=(x1-mu)/sigma\n",
    "z2=(x2-mu)/sigma\n",
    "\n",
    "print(f\"Z1:({x1}-{mu})/{sigma}={z1}\")\n",
    "print(f\"Z2:({x2}-{mu})/{sigma}={z2}\")"
   ]
  },
  {
   "cell_type": "code",
   "execution_count": 37,
   "id": "72182874-0eec-4ff0-9376-94c41684d1ea",
   "metadata": {},
   "outputs": [],
   "source": [
    "import scipy.stats as stats"
   ]
  },
  {
   "cell_type": "code",
   "execution_count": 42,
   "id": "29922c77-19da-4d65-83df-99c5a7ce5df4",
   "metadata": {},
   "outputs": [],
   "source": [
    "z1=0\n",
    "p_z1=stats.norm.cdf(z1)\n"
   ]
  },
  {
   "cell_type": "code",
   "execution_count": 43,
   "id": "fe26f1bf-9b76-40cc-b25e-3826a82f8f1c",
   "metadata": {},
   "outputs": [],
   "source": [
    "z2=1.33\n",
    "p_z2=stats.norm.cdf(z2)\n"
   ]
  },
  {
   "cell_type": "code",
   "execution_count": 44,
   "id": "75e7f455-cda9-4294-b697-234ced3662f0",
   "metadata": {},
   "outputs": [
    {
     "name": "stdout",
     "output_type": "stream",
     "text": [
      "P_z1 : 0.5\n",
      "P_z2 : 0.9082408643497193\n",
      "p_z2-p_z1: 0.4082408643497193\n"
     ]
    }
   ],
   "source": [
    "out=p_z2-p_z1\n",
    "print(\"P_z1 :\",p_z1)\n",
    "print(\"P_z2 :\",p_z2)\n",
    "print(\"p_z2-p_z1:\",out)"
   ]
  },
  {
   "cell_type": "code",
   "execution_count": 1,
   "id": "b3510424-d451-4afa-af01-bb8a7f01b561",
   "metadata": {},
   "outputs": [],
   "source": [
    "import pandas as pd\n",
    "df=pd.read_csv(r\"D:\\PYTHON\\ML\\Datas\\people.csv\")\n"
   ]
  },
  {
   "cell_type": "code",
   "execution_count": 2,
   "id": "299d0af7-2170-424c-97e1-433d778ac4fb",
   "metadata": {},
   "outputs": [
    {
     "data": {
      "text/html": [
       "<div>\n",
       "<style scoped>\n",
       "    .dataframe tbody tr th:only-of-type {\n",
       "        vertical-align: middle;\n",
       "    }\n",
       "\n",
       "    .dataframe tbody tr th {\n",
       "        vertical-align: top;\n",
       "    }\n",
       "\n",
       "    .dataframe thead th {\n",
       "        text-align: right;\n",
       "    }\n",
       "</style>\n",
       "<table border=\"1\" class=\"dataframe\">\n",
       "  <thead>\n",
       "    <tr style=\"text-align: right;\">\n",
       "      <th></th>\n",
       "      <th>satisfactoryLevel</th>\n",
       "      <th>lastEvaluation</th>\n",
       "      <th>numberOfProjects</th>\n",
       "      <th>avgMonthlyHours</th>\n",
       "      <th>timeSpent.company</th>\n",
       "      <th>workAccident</th>\n",
       "      <th>left</th>\n",
       "      <th>promotionInLast5years</th>\n",
       "      <th>dept</th>\n",
       "      <th>salary</th>\n",
       "    </tr>\n",
       "  </thead>\n",
       "  <tbody>\n",
       "    <tr>\n",
       "      <th>0</th>\n",
       "      <td>0.38</td>\n",
       "      <td>0.53</td>\n",
       "      <td>2</td>\n",
       "      <td>157</td>\n",
       "      <td>3</td>\n",
       "      <td>0</td>\n",
       "      <td>1</td>\n",
       "      <td>0</td>\n",
       "      <td>sales</td>\n",
       "      <td>low</td>\n",
       "    </tr>\n",
       "    <tr>\n",
       "      <th>1</th>\n",
       "      <td>0.80</td>\n",
       "      <td>0.86</td>\n",
       "      <td>5</td>\n",
       "      <td>262</td>\n",
       "      <td>6</td>\n",
       "      <td>0</td>\n",
       "      <td>1</td>\n",
       "      <td>0</td>\n",
       "      <td>sales</td>\n",
       "      <td>medium</td>\n",
       "    </tr>\n",
       "    <tr>\n",
       "      <th>2</th>\n",
       "      <td>0.11</td>\n",
       "      <td>0.88</td>\n",
       "      <td>7</td>\n",
       "      <td>272</td>\n",
       "      <td>4</td>\n",
       "      <td>0</td>\n",
       "      <td>1</td>\n",
       "      <td>0</td>\n",
       "      <td>sales</td>\n",
       "      <td>medium</td>\n",
       "    </tr>\n",
       "    <tr>\n",
       "      <th>3</th>\n",
       "      <td>0.37</td>\n",
       "      <td>0.52</td>\n",
       "      <td>2</td>\n",
       "      <td>159</td>\n",
       "      <td>3</td>\n",
       "      <td>0</td>\n",
       "      <td>1</td>\n",
       "      <td>0</td>\n",
       "      <td>sales</td>\n",
       "      <td>low</td>\n",
       "    </tr>\n",
       "    <tr>\n",
       "      <th>4</th>\n",
       "      <td>0.41</td>\n",
       "      <td>0.50</td>\n",
       "      <td>2</td>\n",
       "      <td>153</td>\n",
       "      <td>3</td>\n",
       "      <td>0</td>\n",
       "      <td>1</td>\n",
       "      <td>0</td>\n",
       "      <td>sales</td>\n",
       "      <td>low</td>\n",
       "    </tr>\n",
       "  </tbody>\n",
       "</table>\n",
       "</div>"
      ],
      "text/plain": [
       "   satisfactoryLevel  lastEvaluation  numberOfProjects  avgMonthlyHours  \\\n",
       "0               0.38            0.53                 2              157   \n",
       "1               0.80            0.86                 5              262   \n",
       "2               0.11            0.88                 7              272   \n",
       "3               0.37            0.52                 2              159   \n",
       "4               0.41            0.50                 2              153   \n",
       "\n",
       "   timeSpent.company  workAccident  left  promotionInLast5years   dept  salary  \n",
       "0                  3             0     1                      0  sales     low  \n",
       "1                  6             0     1                      0  sales  medium  \n",
       "2                  4             0     1                      0  sales  medium  \n",
       "3                  3             0     1                      0  sales     low  \n",
       "4                  3             0     1                      0  sales     low  "
      ]
     },
     "execution_count": 2,
     "metadata": {},
     "output_type": "execute_result"
    }
   ],
   "source": [
    "df.head()"
   ]
  },
  {
   "cell_type": "code",
   "execution_count": 3,
   "id": "e3c506c0-8af4-4f9e-90c8-af1467f75d44",
   "metadata": {},
   "outputs": [
    {
     "name": "stdout",
     "output_type": "stream",
     "text": [
      "<class 'pandas.core.frame.DataFrame'>\n",
      "RangeIndex: 14999 entries, 0 to 14998\n",
      "Data columns (total 10 columns):\n",
      " #   Column                 Non-Null Count  Dtype  \n",
      "---  ------                 --------------  -----  \n",
      " 0   satisfactoryLevel      14999 non-null  float64\n",
      " 1   lastEvaluation         14999 non-null  float64\n",
      " 2   numberOfProjects       14999 non-null  int64  \n",
      " 3   avgMonthlyHours        14999 non-null  int64  \n",
      " 4   timeSpent.company      14999 non-null  int64  \n",
      " 5   workAccident           14999 non-null  int64  \n",
      " 6   left                   14999 non-null  int64  \n",
      " 7   promotionInLast5years  14999 non-null  int64  \n",
      " 8   dept                   14999 non-null  object \n",
      " 9   salary                 14999 non-null  object \n",
      "dtypes: float64(2), int64(6), object(2)\n",
      "memory usage: 1.1+ MB\n"
     ]
    }
   ],
   "source": [
    "df.info()"
   ]
  },
  {
   "cell_type": "code",
   "execution_count": 4,
   "id": "b6dd8049-41de-4527-8550-07911101a584",
   "metadata": {},
   "outputs": [
    {
     "data": {
      "text/html": [
       "<div>\n",
       "<style scoped>\n",
       "    .dataframe tbody tr th:only-of-type {\n",
       "        vertical-align: middle;\n",
       "    }\n",
       "\n",
       "    .dataframe tbody tr th {\n",
       "        vertical-align: top;\n",
       "    }\n",
       "\n",
       "    .dataframe thead th {\n",
       "        text-align: right;\n",
       "    }\n",
       "</style>\n",
       "<table border=\"1\" class=\"dataframe\">\n",
       "  <thead>\n",
       "    <tr style=\"text-align: right;\">\n",
       "      <th></th>\n",
       "      <th>satisfactoryLevel</th>\n",
       "      <th>lastEvaluation</th>\n",
       "      <th>numberOfProjects</th>\n",
       "      <th>avgMonthlyHours</th>\n",
       "      <th>timeSpent.company</th>\n",
       "      <th>workAccident</th>\n",
       "      <th>left</th>\n",
       "      <th>promotionInLast5years</th>\n",
       "    </tr>\n",
       "  </thead>\n",
       "  <tbody>\n",
       "    <tr>\n",
       "      <th>count</th>\n",
       "      <td>14999.000000</td>\n",
       "      <td>14999.000000</td>\n",
       "      <td>14999.000000</td>\n",
       "      <td>14999.000000</td>\n",
       "      <td>14999.000000</td>\n",
       "      <td>14999.000000</td>\n",
       "      <td>14999.000000</td>\n",
       "      <td>14999.000000</td>\n",
       "    </tr>\n",
       "    <tr>\n",
       "      <th>mean</th>\n",
       "      <td>0.612834</td>\n",
       "      <td>0.716102</td>\n",
       "      <td>3.803054</td>\n",
       "      <td>201.050337</td>\n",
       "      <td>3.498233</td>\n",
       "      <td>0.144610</td>\n",
       "      <td>0.238083</td>\n",
       "      <td>0.021268</td>\n",
       "    </tr>\n",
       "    <tr>\n",
       "      <th>std</th>\n",
       "      <td>0.248631</td>\n",
       "      <td>0.171169</td>\n",
       "      <td>1.232592</td>\n",
       "      <td>49.943099</td>\n",
       "      <td>1.460136</td>\n",
       "      <td>0.351719</td>\n",
       "      <td>0.425924</td>\n",
       "      <td>0.144281</td>\n",
       "    </tr>\n",
       "    <tr>\n",
       "      <th>min</th>\n",
       "      <td>0.090000</td>\n",
       "      <td>0.360000</td>\n",
       "      <td>2.000000</td>\n",
       "      <td>96.000000</td>\n",
       "      <td>2.000000</td>\n",
       "      <td>0.000000</td>\n",
       "      <td>0.000000</td>\n",
       "      <td>0.000000</td>\n",
       "    </tr>\n",
       "    <tr>\n",
       "      <th>25%</th>\n",
       "      <td>0.440000</td>\n",
       "      <td>0.560000</td>\n",
       "      <td>3.000000</td>\n",
       "      <td>156.000000</td>\n",
       "      <td>3.000000</td>\n",
       "      <td>0.000000</td>\n",
       "      <td>0.000000</td>\n",
       "      <td>0.000000</td>\n",
       "    </tr>\n",
       "    <tr>\n",
       "      <th>50%</th>\n",
       "      <td>0.640000</td>\n",
       "      <td>0.720000</td>\n",
       "      <td>4.000000</td>\n",
       "      <td>200.000000</td>\n",
       "      <td>3.000000</td>\n",
       "      <td>0.000000</td>\n",
       "      <td>0.000000</td>\n",
       "      <td>0.000000</td>\n",
       "    </tr>\n",
       "    <tr>\n",
       "      <th>75%</th>\n",
       "      <td>0.820000</td>\n",
       "      <td>0.870000</td>\n",
       "      <td>5.000000</td>\n",
       "      <td>245.000000</td>\n",
       "      <td>4.000000</td>\n",
       "      <td>0.000000</td>\n",
       "      <td>0.000000</td>\n",
       "      <td>0.000000</td>\n",
       "    </tr>\n",
       "    <tr>\n",
       "      <th>max</th>\n",
       "      <td>1.000000</td>\n",
       "      <td>1.000000</td>\n",
       "      <td>7.000000</td>\n",
       "      <td>310.000000</td>\n",
       "      <td>10.000000</td>\n",
       "      <td>1.000000</td>\n",
       "      <td>1.000000</td>\n",
       "      <td>1.000000</td>\n",
       "    </tr>\n",
       "  </tbody>\n",
       "</table>\n",
       "</div>"
      ],
      "text/plain": [
       "       satisfactoryLevel  lastEvaluation  numberOfProjects  avgMonthlyHours  \\\n",
       "count       14999.000000    14999.000000      14999.000000     14999.000000   \n",
       "mean            0.612834        0.716102          3.803054       201.050337   \n",
       "std             0.248631        0.171169          1.232592        49.943099   \n",
       "min             0.090000        0.360000          2.000000        96.000000   \n",
       "25%             0.440000        0.560000          3.000000       156.000000   \n",
       "50%             0.640000        0.720000          4.000000       200.000000   \n",
       "75%             0.820000        0.870000          5.000000       245.000000   \n",
       "max             1.000000        1.000000          7.000000       310.000000   \n",
       "\n",
       "       timeSpent.company  workAccident          left  promotionInLast5years  \n",
       "count       14999.000000  14999.000000  14999.000000           14999.000000  \n",
       "mean            3.498233      0.144610      0.238083               0.021268  \n",
       "std             1.460136      0.351719      0.425924               0.144281  \n",
       "min             2.000000      0.000000      0.000000               0.000000  \n",
       "25%             3.000000      0.000000      0.000000               0.000000  \n",
       "50%             3.000000      0.000000      0.000000               0.000000  \n",
       "75%             4.000000      0.000000      0.000000               0.000000  \n",
       "max            10.000000      1.000000      1.000000               1.000000  "
      ]
     },
     "execution_count": 4,
     "metadata": {},
     "output_type": "execute_result"
    }
   ],
   "source": [
    "df.describe()"
   ]
  },
  {
   "cell_type": "code",
   "execution_count": 8,
   "id": "f6874446-4af3-48bc-90a2-3b8f587b1aa1",
   "metadata": {},
   "outputs": [
    {
     "data": {
      "text/plain": [
       "salary\n",
       "low       7316\n",
       "medium    6446\n",
       "high      1237\n",
       "Name: count, dtype: int64"
      ]
     },
     "execution_count": 8,
     "metadata": {},
     "output_type": "execute_result"
    }
   ],
   "source": [
    "df.salary.value_counts()"
   ]
  },
  {
   "cell_type": "code",
   "execution_count": 5,
   "id": "e045adeb-970f-4113-9477-e56577fe2bbd",
   "metadata": {},
   "outputs": [],
   "source": [
    "df.rename(columns={'timeSpent.company':'Timespent_company'},inplace=True )"
   ]
  },
  {
   "cell_type": "code",
   "execution_count": 6,
   "id": "08f80b1b-4bc7-4da3-a9de-e4c7d1f8b8d4",
   "metadata": {
    "scrolled": true
   },
   "outputs": [],
   "source": [
    "df.drop_duplicates(keep='first',inplace=True)"
   ]
  },
  {
   "cell_type": "code",
   "execution_count": 7,
   "id": "7cb72f49-d3c0-4769-a956-ef1ba1346031",
   "metadata": {},
   "outputs": [
    {
     "data": {
      "text/plain": [
       "(11991, 10)"
      ]
     },
     "execution_count": 7,
     "metadata": {},
     "output_type": "execute_result"
    }
   ],
   "source": [
    "df.shape"
   ]
  },
  {
   "cell_type": "code",
   "execution_count": 8,
   "id": "4d387000-15e8-4ba6-8003-cd390603ffd5",
   "metadata": {},
   "outputs": [
    {
     "data": {
      "text/html": [
       "<div>\n",
       "<style scoped>\n",
       "    .dataframe tbody tr th:only-of-type {\n",
       "        vertical-align: middle;\n",
       "    }\n",
       "\n",
       "    .dataframe tbody tr th {\n",
       "        vertical-align: top;\n",
       "    }\n",
       "\n",
       "    .dataframe thead th {\n",
       "        text-align: right;\n",
       "    }\n",
       "</style>\n",
       "<table border=\"1\" class=\"dataframe\">\n",
       "  <thead>\n",
       "    <tr style=\"text-align: right;\">\n",
       "      <th></th>\n",
       "      <th>satisfactoryLevel</th>\n",
       "      <th>lastEvaluation</th>\n",
       "      <th>numberOfProjects</th>\n",
       "      <th>avgMonthlyHours</th>\n",
       "      <th>Timespent_company</th>\n",
       "      <th>workAccident</th>\n",
       "      <th>left</th>\n",
       "      <th>promotionInLast5years</th>\n",
       "    </tr>\n",
       "  </thead>\n",
       "  <tbody>\n",
       "    <tr>\n",
       "      <th>count</th>\n",
       "      <td>11991.000000</td>\n",
       "      <td>11991.000000</td>\n",
       "      <td>11991.000000</td>\n",
       "      <td>11991.000000</td>\n",
       "      <td>11991.000000</td>\n",
       "      <td>11991.000000</td>\n",
       "      <td>11991.000000</td>\n",
       "      <td>11991.000000</td>\n",
       "    </tr>\n",
       "    <tr>\n",
       "      <th>mean</th>\n",
       "      <td>0.629658</td>\n",
       "      <td>0.716683</td>\n",
       "      <td>3.802852</td>\n",
       "      <td>200.473522</td>\n",
       "      <td>3.364857</td>\n",
       "      <td>0.154282</td>\n",
       "      <td>0.166041</td>\n",
       "      <td>0.016929</td>\n",
       "    </tr>\n",
       "    <tr>\n",
       "      <th>std</th>\n",
       "      <td>0.241070</td>\n",
       "      <td>0.168343</td>\n",
       "      <td>1.163238</td>\n",
       "      <td>48.727813</td>\n",
       "      <td>1.330240</td>\n",
       "      <td>0.361234</td>\n",
       "      <td>0.372133</td>\n",
       "      <td>0.129012</td>\n",
       "    </tr>\n",
       "    <tr>\n",
       "      <th>min</th>\n",
       "      <td>0.090000</td>\n",
       "      <td>0.360000</td>\n",
       "      <td>2.000000</td>\n",
       "      <td>96.000000</td>\n",
       "      <td>2.000000</td>\n",
       "      <td>0.000000</td>\n",
       "      <td>0.000000</td>\n",
       "      <td>0.000000</td>\n",
       "    </tr>\n",
       "    <tr>\n",
       "      <th>25%</th>\n",
       "      <td>0.480000</td>\n",
       "      <td>0.570000</td>\n",
       "      <td>3.000000</td>\n",
       "      <td>157.000000</td>\n",
       "      <td>3.000000</td>\n",
       "      <td>0.000000</td>\n",
       "      <td>0.000000</td>\n",
       "      <td>0.000000</td>\n",
       "    </tr>\n",
       "    <tr>\n",
       "      <th>50%</th>\n",
       "      <td>0.660000</td>\n",
       "      <td>0.720000</td>\n",
       "      <td>4.000000</td>\n",
       "      <td>200.000000</td>\n",
       "      <td>3.000000</td>\n",
       "      <td>0.000000</td>\n",
       "      <td>0.000000</td>\n",
       "      <td>0.000000</td>\n",
       "    </tr>\n",
       "    <tr>\n",
       "      <th>75%</th>\n",
       "      <td>0.820000</td>\n",
       "      <td>0.860000</td>\n",
       "      <td>5.000000</td>\n",
       "      <td>243.000000</td>\n",
       "      <td>4.000000</td>\n",
       "      <td>0.000000</td>\n",
       "      <td>0.000000</td>\n",
       "      <td>0.000000</td>\n",
       "    </tr>\n",
       "    <tr>\n",
       "      <th>max</th>\n",
       "      <td>1.000000</td>\n",
       "      <td>1.000000</td>\n",
       "      <td>7.000000</td>\n",
       "      <td>310.000000</td>\n",
       "      <td>10.000000</td>\n",
       "      <td>1.000000</td>\n",
       "      <td>1.000000</td>\n",
       "      <td>1.000000</td>\n",
       "    </tr>\n",
       "  </tbody>\n",
       "</table>\n",
       "</div>"
      ],
      "text/plain": [
       "       satisfactoryLevel  lastEvaluation  numberOfProjects  avgMonthlyHours  \\\n",
       "count       11991.000000    11991.000000      11991.000000     11991.000000   \n",
       "mean            0.629658        0.716683          3.802852       200.473522   \n",
       "std             0.241070        0.168343          1.163238        48.727813   \n",
       "min             0.090000        0.360000          2.000000        96.000000   \n",
       "25%             0.480000        0.570000          3.000000       157.000000   \n",
       "50%             0.660000        0.720000          4.000000       200.000000   \n",
       "75%             0.820000        0.860000          5.000000       243.000000   \n",
       "max             1.000000        1.000000          7.000000       310.000000   \n",
       "\n",
       "       Timespent_company  workAccident          left  promotionInLast5years  \n",
       "count       11991.000000  11991.000000  11991.000000           11991.000000  \n",
       "mean            3.364857      0.154282      0.166041               0.016929  \n",
       "std             1.330240      0.361234      0.372133               0.129012  \n",
       "min             2.000000      0.000000      0.000000               0.000000  \n",
       "25%             3.000000      0.000000      0.000000               0.000000  \n",
       "50%             3.000000      0.000000      0.000000               0.000000  \n",
       "75%             4.000000      0.000000      0.000000               0.000000  \n",
       "max            10.000000      1.000000      1.000000               1.000000  "
      ]
     },
     "execution_count": 8,
     "metadata": {},
     "output_type": "execute_result"
    }
   ],
   "source": [
    "df.describe()"
   ]
  },
  {
   "cell_type": "code",
   "execution_count": 9,
   "id": "1ac08b6b-dcd7-47e7-af29-51f9ea2a4db9",
   "metadata": {},
   "outputs": [],
   "source": [
    "import matplotlib.pyplot as plt \n",
    "%matplotlib inline \n",
    "import seaborn as sn"
   ]
  },
  {
   "cell_type": "code",
   "execution_count": 10,
   "id": "576c5a34-294f-4903-a21a-13a9451f8d95",
   "metadata": {
    "scrolled": true
   },
   "outputs": [
    {
     "data": {
      "image/png": "[encoded data removed]",
      "text/plain": [
       "<Figure size 1000x500 with 1 Axes>"
      ]
     },
     "metadata": {},
     "output_type": "display_data"
    }
   ],
   "source": [
    "plt.figure(figsize=(10,5))\n",
    "plt.hist(df['satisfactoryLevel'])\n",
    "plt.show()\n"
   ]
  },
  {
   "cell_type": "code",
   "execution_count": 11,
   "id": "0789a2a6-fe74-481e-aadd-df18a54585a8",
   "metadata": {},
   "outputs": [
    {
     "name": "stderr",
     "output_type": "stream",
     "text": [
      "C:\\Users\\user\\AppData\\Local\\Temp\\ipykernel_12508\\4192881455.py:1: UserWarning: \n",
      "\n",
      "`distplot` is a deprecated function and will be removed in seaborn v0.14.0.\n",
      "\n",
      "Please adapt your code to use either `displot` (a figure-level function with\n",
      "similar flexibility) or `histplot` (an axes-level function for histograms).\n",
      "\n",
      "For a guide to updating your code to use the new functions, please see\n",
      "https://gist.github.com/mwaskom/de44147ed2974457ad6372750bbe5751\n",
      "\n",
      "  sn.distplot(df['satisfactoryLevel'])\n",
      "C:\\Users\\user\\anaconda3\\Lib\\site-packages\\seaborn\\_oldcore.py:1119: FutureWarning: use_inf_as_na option is deprecated and will be removed in a future version. Convert inf values to NaN before operating instead.\n",
      "  with pd.option_context('mode.use_inf_as_na', True):\n"
     ]
    },
    {
     "data": {
      "text/plain": [
       "<Axes: xlabel='satisfactoryLevel', ylabel='Density'>"
      ]
     },
     "execution_count": 11,
     "metadata": {},
     "output_type": "execute_result"
    },
    {
     "data": {
      "image/png": "[encoded data removed]",
      "text/plain": [
       "<Figure size 640x480 with 1 Axes>"
      ]
     },
     "metadata": {},
     "output_type": "display_data"
    }
   ],
   "source": [
    "import warnings \n",
    "warnings.filterwarning()\n",
    "sn.distplot(df['satisfactoryLevel'])"
   ]
  },
  {
   "cell_type": "code",
   "execution_count": 12,
   "id": "c5cda996-e6f5-4a73-85d5-b3ab51b43979",
   "metadata": {},
   "outputs": [],
   "source": [
    "import scipy\n",
    "from scipy.stats import shapiro"
   ]
  },
  {
   "cell_type": "code",
   "execution_count": 13,
   "id": "e8baa673-24d6-482e-9709-b4d2f8154389",
   "metadata": {},
   "outputs": [
    {
     "name": "stderr",
     "output_type": "stream",
     "text": [
      "C:\\Users\\user\\anaconda3\\Lib\\site-packages\\scipy\\stats\\_morestats.py:1882: UserWarning: p-value may not be accurate for N > 5000.\n",
      "  warnings.warn(\"p-value may not be accurate for N > 5000.\")\n"
     ]
    }
   ],
   "source": [
    "stat,p_value=shapiro(df[\"satisfactoryLevel\"])"
   ]
  },
  {
   "cell_type": "code",
   "execution_count": 14,
   "id": "3d2a05fc-442c-4e64-bbf2-6a7a59efa32d",
   "metadata": {},
   "outputs": [
    {
     "data": {
      "text/plain": [
       "(0.9526872038841248, 0.0)"
      ]
     },
     "execution_count": 14,
     "metadata": {},
     "output_type": "execute_result"
    }
   ],
   "source": [
    "stat,p_value"
   ]
  },
  {
   "cell_type": "markdown",
   "id": "e523d71a-1b6f-48b0-9fa7-f12c2c1cbf34",
   "metadata": {},
   "source": [
    "# p value is less than 0.05 reject null hypothesis ,data is not normally distributed "
   ]
  },
  {
   "cell_type": "code",
   "execution_count": 15,
   "id": "db717d2e-58d6-42f9-86cf-aa8f30981800",
   "metadata": {
    "scrolled": true
   },
   "outputs": [
    {
     "data": {
      "text/plain": [
       "salary\n",
       "low       5740\n",
       "medium    5261\n",
       "high       990\n",
       "Name: count, dtype: int64"
      ]
     },
     "execution_count": 15,
     "metadata": {},
     "output_type": "execute_result"
    }
   ],
   "source": [
    "df.salary.value_counts()"
   ]
  },
  {
   "cell_type": "code",
   "execution_count": 17,
   "id": "b992f286-23b2-4930-9914-8f67245582e9",
   "metadata": {},
   "outputs": [],
   "source": [
    "df1=df"
   ]
  },
  {
   "cell_type": "code",
   "execution_count": 16,
   "id": "005bb874-fa28-4110-8812-855f4e2f4441",
   "metadata": {},
   "outputs": [],
   "source": [
    "from sklearn.preprocessing import LabelEncoder \n",
    "encode_model=LabelEncoder()"
   ]
  },
  {
   "cell_type": "code",
   "execution_count": 19,
   "id": "a52358d9-7b8d-4f92-a8e8-6d8bf9214390",
   "metadata": {},
   "outputs": [],
   "source": [
    "df1.salary=encode_model.fit_transform(df1.salary)"
   ]
  },
  {
   "cell_type": "code",
   "execution_count": 20,
   "id": "7cbf4ed4-5c18-4f6f-b0d3-38d683e6dda6",
   "metadata": {},
   "outputs": [
    {
     "data": {
      "text/html": [
       "<div>\n",
       "<style scoped>\n",
       "    .dataframe tbody tr th:only-of-type {\n",
       "        vertical-align: middle;\n",
       "    }\n",
       "\n",
       "    .dataframe tbody tr th {\n",
       "        vertical-align: top;\n",
       "    }\n",
       "\n",
       "    .dataframe thead th {\n",
       "        text-align: right;\n",
       "    }\n",
       "</style>\n",
       "<table border=\"1\" class=\"dataframe\">\n",
       "  <thead>\n",
       "    <tr style=\"text-align: right;\">\n",
       "      <th></th>\n",
       "      <th>satisfactoryLevel</th>\n",
       "      <th>lastEvaluation</th>\n",
       "      <th>numberOfProjects</th>\n",
       "      <th>avgMonthlyHours</th>\n",
       "      <th>Timespent_company</th>\n",
       "      <th>workAccident</th>\n",
       "      <th>left</th>\n",
       "      <th>promotionInLast5years</th>\n",
       "      <th>dept</th>\n",
       "      <th>salary</th>\n",
       "    </tr>\n",
       "  </thead>\n",
       "  <tbody>\n",
       "    <tr>\n",
       "      <th>0</th>\n",
       "      <td>0.38</td>\n",
       "      <td>0.53</td>\n",
       "      <td>2</td>\n",
       "      <td>157</td>\n",
       "      <td>3</td>\n",
       "      <td>0</td>\n",
       "      <td>1</td>\n",
       "      <td>0</td>\n",
       "      <td>sales</td>\n",
       "      <td>1</td>\n",
       "    </tr>\n",
       "    <tr>\n",
       "      <th>1</th>\n",
       "      <td>0.80</td>\n",
       "      <td>0.86</td>\n",
       "      <td>5</td>\n",
       "      <td>262</td>\n",
       "      <td>6</td>\n",
       "      <td>0</td>\n",
       "      <td>1</td>\n",
       "      <td>0</td>\n",
       "      <td>sales</td>\n",
       "      <td>2</td>\n",
       "    </tr>\n",
       "    <tr>\n",
       "      <th>2</th>\n",
       "      <td>0.11</td>\n",
       "      <td>0.88</td>\n",
       "      <td>7</td>\n",
       "      <td>272</td>\n",
       "      <td>4</td>\n",
       "      <td>0</td>\n",
       "      <td>1</td>\n",
       "      <td>0</td>\n",
       "      <td>sales</td>\n",
       "      <td>2</td>\n",
       "    </tr>\n",
       "    <tr>\n",
       "      <th>3</th>\n",
       "      <td>0.37</td>\n",
       "      <td>0.52</td>\n",
       "      <td>2</td>\n",
       "      <td>159</td>\n",
       "      <td>3</td>\n",
       "      <td>0</td>\n",
       "      <td>1</td>\n",
       "      <td>0</td>\n",
       "      <td>sales</td>\n",
       "      <td>1</td>\n",
       "    </tr>\n",
       "    <tr>\n",
       "      <th>4</th>\n",
       "      <td>0.41</td>\n",
       "      <td>0.50</td>\n",
       "      <td>2</td>\n",
       "      <td>153</td>\n",
       "      <td>3</td>\n",
       "      <td>0</td>\n",
       "      <td>1</td>\n",
       "      <td>0</td>\n",
       "      <td>sales</td>\n",
       "      <td>1</td>\n",
       "    </tr>\n",
       "  </tbody>\n",
       "</table>\n",
       "</div>"
      ],
      "text/plain": [
       "   satisfactoryLevel  lastEvaluation  numberOfProjects  avgMonthlyHours  \\\n",
       "0               0.38            0.53                 2              157   \n",
       "1               0.80            0.86                 5              262   \n",
       "2               0.11            0.88                 7              272   \n",
       "3               0.37            0.52                 2              159   \n",
       "4               0.41            0.50                 2              153   \n",
       "\n",
       "   Timespent_company  workAccident  left  promotionInLast5years   dept  salary  \n",
       "0                  3             0     1                      0  sales       1  \n",
       "1                  6             0     1                      0  sales       2  \n",
       "2                  4             0     1                      0  sales       2  \n",
       "3                  3             0     1                      0  sales       1  \n",
       "4                  3             0     1                      0  sales       1  "
      ]
     },
     "execution_count": 20,
     "metadata": {},
     "output_type": "execute_result"
    }
   ],
   "source": [
    "df1.head()"
   ]
  },
  {
   "cell_type": "code",
   "execution_count": 21,
   "id": "850d4748-3f4c-414c-ac8e-10a009837707",
   "metadata": {},
   "outputs": [],
   "source": [
    "df1.dept=encode_model.fit_transform(df.dept)"
   ]
  },
  {
   "cell_type": "code",
   "execution_count": 22,
   "id": "97c56d66-8265-40d3-8e64-09505e25a6fd",
   "metadata": {},
   "outputs": [
    {
     "data": {
      "text/html": [
       "<div>\n",
       "<style scoped>\n",
       "    .dataframe tbody tr th:only-of-type {\n",
       "        vertical-align: middle;\n",
       "    }\n",
       "\n",
       "    .dataframe tbody tr th {\n",
       "        vertical-align: top;\n",
       "    }\n",
       "\n",
       "    .dataframe thead th {\n",
       "        text-align: right;\n",
       "    }\n",
       "</style>\n",
       "<table border=\"1\" class=\"dataframe\">\n",
       "  <thead>\n",
       "    <tr style=\"text-align: right;\">\n",
       "      <th></th>\n",
       "      <th>satisfactoryLevel</th>\n",
       "      <th>lastEvaluation</th>\n",
       "      <th>numberOfProjects</th>\n",
       "      <th>avgMonthlyHours</th>\n",
       "      <th>Timespent_company</th>\n",
       "      <th>workAccident</th>\n",
       "      <th>left</th>\n",
       "      <th>promotionInLast5years</th>\n",
       "      <th>dept</th>\n",
       "      <th>salary</th>\n",
       "    </tr>\n",
       "  </thead>\n",
       "  <tbody>\n",
       "    <tr>\n",
       "      <th>0</th>\n",
       "      <td>0.38</td>\n",
       "      <td>0.53</td>\n",
       "      <td>2</td>\n",
       "      <td>157</td>\n",
       "      <td>3</td>\n",
       "      <td>0</td>\n",
       "      <td>1</td>\n",
       "      <td>0</td>\n",
       "      <td>7</td>\n",
       "      <td>1</td>\n",
       "    </tr>\n",
       "    <tr>\n",
       "      <th>1</th>\n",
       "      <td>0.80</td>\n",
       "      <td>0.86</td>\n",
       "      <td>5</td>\n",
       "      <td>262</td>\n",
       "      <td>6</td>\n",
       "      <td>0</td>\n",
       "      <td>1</td>\n",
       "      <td>0</td>\n",
       "      <td>7</td>\n",
       "      <td>2</td>\n",
       "    </tr>\n",
       "    <tr>\n",
       "      <th>2</th>\n",
       "      <td>0.11</td>\n",
       "      <td>0.88</td>\n",
       "      <td>7</td>\n",
       "      <td>272</td>\n",
       "      <td>4</td>\n",
       "      <td>0</td>\n",
       "      <td>1</td>\n",
       "      <td>0</td>\n",
       "      <td>7</td>\n",
       "      <td>2</td>\n",
       "    </tr>\n",
       "    <tr>\n",
       "      <th>3</th>\n",
       "      <td>0.37</td>\n",
       "      <td>0.52</td>\n",
       "      <td>2</td>\n",
       "      <td>159</td>\n",
       "      <td>3</td>\n",
       "      <td>0</td>\n",
       "      <td>1</td>\n",
       "      <td>0</td>\n",
       "      <td>7</td>\n",
       "      <td>1</td>\n",
       "    </tr>\n",
       "    <tr>\n",
       "      <th>4</th>\n",
       "      <td>0.41</td>\n",
       "      <td>0.50</td>\n",
       "      <td>2</td>\n",
       "      <td>153</td>\n",
       "      <td>3</td>\n",
       "      <td>0</td>\n",
       "      <td>1</td>\n",
       "      <td>0</td>\n",
       "      <td>7</td>\n",
       "      <td>1</td>\n",
       "    </tr>\n",
       "  </tbody>\n",
       "</table>\n",
       "</div>"
      ],
      "text/plain": [
       "   satisfactoryLevel  lastEvaluation  numberOfProjects  avgMonthlyHours  \\\n",
       "0               0.38            0.53                 2              157   \n",
       "1               0.80            0.86                 5              262   \n",
       "2               0.11            0.88                 7              272   \n",
       "3               0.37            0.52                 2              159   \n",
       "4               0.41            0.50                 2              153   \n",
       "\n",
       "   Timespent_company  workAccident  left  promotionInLast5years  dept  salary  \n",
       "0                  3             0     1                      0     7       1  \n",
       "1                  6             0     1                      0     7       2  \n",
       "2                  4             0     1                      0     7       2  \n",
       "3                  3             0     1                      0     7       1  \n",
       "4                  3             0     1                      0     7       1  "
      ]
     },
     "execution_count": 22,
     "metadata": {},
     "output_type": "execute_result"
    }
   ],
   "source": [
    "df1.head()"
   ]
  },
  {
   "cell_type": "code",
   "execution_count": 23,
   "id": "275a4b3c-ee94-4c53-8c72-aca89c2e9372",
   "metadata": {},
   "outputs": [
    {
     "data": {
      "text/html": [
       "<div>\n",
       "<style scoped>\n",
       "    .dataframe tbody tr th:only-of-type {\n",
       "        vertical-align: middle;\n",
       "    }\n",
       "\n",
       "    .dataframe tbody tr th {\n",
       "        vertical-align: top;\n",
       "    }\n",
       "\n",
       "    .dataframe thead th {\n",
       "        text-align: right;\n",
       "    }\n",
       "</style>\n",
       "<table border=\"1\" class=\"dataframe\">\n",
       "  <thead>\n",
       "    <tr style=\"text-align: right;\">\n",
       "      <th></th>\n",
       "      <th>satisfactoryLevel</th>\n",
       "      <th>lastEvaluation</th>\n",
       "      <th>numberOfProjects</th>\n",
       "      <th>avgMonthlyHours</th>\n",
       "      <th>Timespent_company</th>\n",
       "      <th>workAccident</th>\n",
       "      <th>left</th>\n",
       "      <th>promotionInLast5years</th>\n",
       "      <th>dept</th>\n",
       "      <th>salary</th>\n",
       "    </tr>\n",
       "  </thead>\n",
       "  <tbody>\n",
       "    <tr>\n",
       "      <th>satisfactoryLevel</th>\n",
       "      <td>1.000000</td>\n",
       "      <td>0.095186</td>\n",
       "      <td>-0.133246</td>\n",
       "      <td>-0.006252</td>\n",
       "      <td>-0.152915</td>\n",
       "      <td>0.039940</td>\n",
       "      <td>-0.350558</td>\n",
       "      <td>0.019789</td>\n",
       "      <td>0.006941</td>\n",
       "      <td>0.007216</td>\n",
       "    </tr>\n",
       "    <tr>\n",
       "      <th>lastEvaluation</th>\n",
       "      <td>0.095186</td>\n",
       "      <td>1.000000</td>\n",
       "      <td>0.270256</td>\n",
       "      <td>0.264678</td>\n",
       "      <td>0.096829</td>\n",
       "      <td>-0.005695</td>\n",
       "      <td>0.013520</td>\n",
       "      <td>-0.007206</td>\n",
       "      <td>0.004309</td>\n",
       "      <td>0.007091</td>\n",
       "    </tr>\n",
       "    <tr>\n",
       "      <th>numberOfProjects</th>\n",
       "      <td>-0.133246</td>\n",
       "      <td>0.270256</td>\n",
       "      <td>1.000000</td>\n",
       "      <td>0.331516</td>\n",
       "      <td>0.188837</td>\n",
       "      <td>-0.005612</td>\n",
       "      <td>0.030928</td>\n",
       "      <td>-0.000544</td>\n",
       "      <td>0.010101</td>\n",
       "      <td>0.003199</td>\n",
       "    </tr>\n",
       "    <tr>\n",
       "      <th>avgMonthlyHours</th>\n",
       "      <td>-0.006252</td>\n",
       "      <td>0.264678</td>\n",
       "      <td>0.331516</td>\n",
       "      <td>1.000000</td>\n",
       "      <td>0.102875</td>\n",
       "      <td>-0.012860</td>\n",
       "      <td>0.070409</td>\n",
       "      <td>-0.004964</td>\n",
       "      <td>0.000623</td>\n",
       "      <td>0.002727</td>\n",
       "    </tr>\n",
       "    <tr>\n",
       "      <th>Timespent_company</th>\n",
       "      <td>-0.152915</td>\n",
       "      <td>0.096829</td>\n",
       "      <td>0.188837</td>\n",
       "      <td>0.102875</td>\n",
       "      <td>1.000000</td>\n",
       "      <td>0.000003</td>\n",
       "      <td>0.173295</td>\n",
       "      <td>0.056828</td>\n",
       "      <td>-0.017806</td>\n",
       "      <td>0.000369</td>\n",
       "    </tr>\n",
       "    <tr>\n",
       "      <th>workAccident</th>\n",
       "      <td>0.039940</td>\n",
       "      <td>-0.005695</td>\n",
       "      <td>-0.005612</td>\n",
       "      <td>-0.012860</td>\n",
       "      <td>0.000003</td>\n",
       "      <td>1.000000</td>\n",
       "      <td>-0.125436</td>\n",
       "      <td>0.029852</td>\n",
       "      <td>0.006560</td>\n",
       "      <td>-0.003654</td>\n",
       "    </tr>\n",
       "    <tr>\n",
       "      <th>left</th>\n",
       "      <td>-0.350558</td>\n",
       "      <td>0.013520</td>\n",
       "      <td>0.030928</td>\n",
       "      <td>0.070409</td>\n",
       "      <td>0.173295</td>\n",
       "      <td>-0.125436</td>\n",
       "      <td>1.000000</td>\n",
       "      <td>-0.044657</td>\n",
       "      <td>0.018286</td>\n",
       "      <td>0.004224</td>\n",
       "    </tr>\n",
       "    <tr>\n",
       "      <th>promotionInLast5years</th>\n",
       "      <td>0.019789</td>\n",
       "      <td>-0.007206</td>\n",
       "      <td>-0.000544</td>\n",
       "      <td>-0.004964</td>\n",
       "      <td>0.056828</td>\n",
       "      <td>0.029852</td>\n",
       "      <td>-0.044657</td>\n",
       "      <td>1.000000</td>\n",
       "      <td>-0.023826</td>\n",
       "      <td>0.004832</td>\n",
       "    </tr>\n",
       "    <tr>\n",
       "      <th>dept</th>\n",
       "      <td>0.006941</td>\n",
       "      <td>0.004309</td>\n",
       "      <td>0.010101</td>\n",
       "      <td>0.000623</td>\n",
       "      <td>-0.017806</td>\n",
       "      <td>0.006560</td>\n",
       "      <td>0.018286</td>\n",
       "      <td>-0.023826</td>\n",
       "      <td>1.000000</td>\n",
       "      <td>0.006702</td>\n",
       "    </tr>\n",
       "    <tr>\n",
       "      <th>salary</th>\n",
       "      <td>0.007216</td>\n",
       "      <td>0.007091</td>\n",
       "      <td>0.003199</td>\n",
       "      <td>0.002727</td>\n",
       "      <td>0.000369</td>\n",
       "      <td>-0.003654</td>\n",
       "      <td>0.004224</td>\n",
       "      <td>0.004832</td>\n",
       "      <td>0.006702</td>\n",
       "      <td>1.000000</td>\n",
       "    </tr>\n",
       "  </tbody>\n",
       "</table>\n",
       "</div>"
      ],
      "text/plain": [
       "                       satisfactoryLevel  lastEvaluation  numberOfProjects  \\\n",
       "satisfactoryLevel               1.000000        0.095186         -0.133246   \n",
       "lastEvaluation                  0.095186        1.000000          0.270256   \n",
       "numberOfProjects               -0.133246        0.270256          1.000000   \n",
       "avgMonthlyHours                -0.006252        0.264678          0.331516   \n",
       "Timespent_company              -0.152915        0.096829          0.188837   \n",
       "workAccident                    0.039940       -0.005695         -0.005612   \n",
       "left                           -0.350558        0.013520          0.030928   \n",
       "promotionInLast5years           0.019789       -0.007206         -0.000544   \n",
       "dept                            0.006941        0.004309          0.010101   \n",
       "salary                          0.007216        0.007091          0.003199   \n",
       "\n",
       "                       avgMonthlyHours  Timespent_company  workAccident  \\\n",
       "satisfactoryLevel            -0.006252          -0.152915      0.039940   \n",
       "lastEvaluation                0.264678           0.096829     -0.005695   \n",
       "numberOfProjects              0.331516           0.188837     -0.005612   \n",
       "avgMonthlyHours               1.000000           0.102875     -0.012860   \n",
       "Timespent_company             0.102875           1.000000      0.000003   \n",
       "workAccident                 -0.012860           0.000003      1.000000   \n",
       "left                          0.070409           0.173295     -0.125436   \n",
       "promotionInLast5years        -0.004964           0.056828      0.029852   \n",
       "dept                          0.000623          -0.017806      0.006560   \n",
       "salary                        0.002727           0.000369     -0.003654   \n",
       "\n",
       "                           left  promotionInLast5years      dept    salary  \n",
       "satisfactoryLevel     -0.350558               0.019789  0.006941  0.007216  \n",
       "lastEvaluation         0.013520              -0.007206  0.004309  0.007091  \n",
       "numberOfProjects       0.030928              -0.000544  0.010101  0.003199  \n",
       "avgMonthlyHours        0.070409              -0.004964  0.000623  0.002727  \n",
       "Timespent_company      0.173295               0.056828 -0.017806  0.000369  \n",
       "workAccident          -0.125436               0.029852  0.006560 -0.003654  \n",
       "left                   1.000000              -0.044657  0.018286  0.004224  \n",
       "promotionInLast5years -0.044657               1.000000 -0.023826  0.004832  \n",
       "dept                   0.018286              -0.023826  1.000000  0.006702  \n",
       "salary                 0.004224               0.004832  0.006702  1.000000  "
      ]
     },
     "execution_count": 23,
     "metadata": {},
     "output_type": "execute_result"
    }
   ],
   "source": [
    "df1.corr()"
   ]
  },
  {
   "cell_type": "code",
   "execution_count": 27,
   "id": "60beff46-77b6-425b-8de4-777a85d466c9",
   "metadata": {
    "scrolled": true
   },
   "outputs": [
    {
     "data": {
      "text/plain": [
       "<Axes: >"
      ]
     },
     "execution_count": 27,
     "metadata": {},
     "output_type": "execute_result"
    },
    {
     "data": {
      "image/png": "[encoded data removed]",
      "text/plain": [
       "<Figure size 1200x1500 with 2 Axes>"
      ]
     },
     "metadata": {},
     "output_type": "display_data"
    }
   ],
   "source": [
    "import seaborn as sn\n",
    "plt.figure(figsize=(12,15))\n",
    "sn.heatmap(df1.corr(),annot = True,cmap='BuPu')"
   ]
  },
  {
   "cell_type": "code",
   "execution_count": 36,
   "id": "76c869c3-95e9-4e5a-996b-5a519c9c488d",
   "metadata": {},
   "outputs": [],
   "source": [
    "emp=df1[(df1.satisfactoryLevel>=0) & (df1.satisfactoryLevel<=0.50) & (df1.Timespent_company==2) & (df1.avgMonthlyHours<=200)]"
   ]
  },
  {
   "cell_type": "code",
   "execution_count": 37,
   "id": "f8507b01-4841-4699-8c19-c436e0793984",
   "metadata": {
    "scrolled": true
   },
   "outputs": [
    {
     "data": {
      "text/html": [
       "<div>\n",
       "<style scoped>\n",
       "    .dataframe tbody tr th:only-of-type {\n",
       "        vertical-align: middle;\n",
       "    }\n",
       "\n",
       "    .dataframe tbody tr th {\n",
       "        vertical-align: top;\n",
       "    }\n",
       "\n",
       "    .dataframe thead th {\n",
       "        text-align: right;\n",
       "    }\n",
       "</style>\n",
       "<table border=\"1\" class=\"dataframe\">\n",
       "  <thead>\n",
       "    <tr style=\"text-align: right;\">\n",
       "      <th></th>\n",
       "      <th>satisfactoryLevel</th>\n",
       "      <th>lastEvaluation</th>\n",
       "      <th>numberOfProjects</th>\n",
       "      <th>avgMonthlyHours</th>\n",
       "      <th>Timespent_company</th>\n",
       "      <th>workAccident</th>\n",
       "      <th>left</th>\n",
       "      <th>promotionInLast5years</th>\n",
       "      <th>dept</th>\n",
       "      <th>salary</th>\n",
       "    </tr>\n",
       "  </thead>\n",
       "  <tbody>\n",
       "    <tr>\n",
       "      <th>35</th>\n",
       "      <td>0.13</td>\n",
       "      <td>0.78</td>\n",
       "      <td>6</td>\n",
       "      <td>152</td>\n",
       "      <td>2</td>\n",
       "      <td>0</td>\n",
       "      <td>1</td>\n",
       "      <td>0</td>\n",
       "      <td>8</td>\n",
       "      <td>1</td>\n",
       "    </tr>\n",
       "    <tr>\n",
       "      <th>379</th>\n",
       "      <td>0.48</td>\n",
       "      <td>0.78</td>\n",
       "      <td>2</td>\n",
       "      <td>198</td>\n",
       "      <td>2</td>\n",
       "      <td>0</td>\n",
       "      <td>1</td>\n",
       "      <td>0</td>\n",
       "      <td>9</td>\n",
       "      <td>2</td>\n",
       "    </tr>\n",
       "    <tr>\n",
       "      <th>413</th>\n",
       "      <td>0.34</td>\n",
       "      <td>0.67</td>\n",
       "      <td>4</td>\n",
       "      <td>141</td>\n",
       "      <td>2</td>\n",
       "      <td>0</td>\n",
       "      <td>1</td>\n",
       "      <td>0</td>\n",
       "      <td>7</td>\n",
       "      <td>1</td>\n",
       "    </tr>\n",
       "    <tr>\n",
       "      <th>1239</th>\n",
       "      <td>0.14</td>\n",
       "      <td>0.47</td>\n",
       "      <td>4</td>\n",
       "      <td>175</td>\n",
       "      <td>2</td>\n",
       "      <td>0</td>\n",
       "      <td>1</td>\n",
       "      <td>0</td>\n",
       "      <td>1</td>\n",
       "      <td>2</td>\n",
       "    </tr>\n",
       "    <tr>\n",
       "      <th>1426</th>\n",
       "      <td>0.19</td>\n",
       "      <td>0.58</td>\n",
       "      <td>5</td>\n",
       "      <td>182</td>\n",
       "      <td>2</td>\n",
       "      <td>0</td>\n",
       "      <td>0</td>\n",
       "      <td>0</td>\n",
       "      <td>9</td>\n",
       "      <td>2</td>\n",
       "    </tr>\n",
       "  </tbody>\n",
       "</table>\n",
       "</div>"
      ],
      "text/plain": [
       "      satisfactoryLevel  lastEvaluation  numberOfProjects  avgMonthlyHours  \\\n",
       "35                 0.13            0.78                 6              152   \n",
       "379                0.48            0.78                 2              198   \n",
       "413                0.34            0.67                 4              141   \n",
       "1239               0.14            0.47                 4              175   \n",
       "1426               0.19            0.58                 5              182   \n",
       "\n",
       "      Timespent_company  workAccident  left  promotionInLast5years  dept  \\\n",
       "35                    2             0     1                      0     8   \n",
       "379                   2             0     1                      0     9   \n",
       "413                   2             0     1                      0     7   \n",
       "1239                  2             0     1                      0     1   \n",
       "1426                  2             0     0                      0     9   \n",
       "\n",
       "      salary  \n",
       "35         1  \n",
       "379        2  \n",
       "413        1  \n",
       "1239       2  \n",
       "1426       2  "
      ]
     },
     "execution_count": 37,
     "metadata": {},
     "output_type": "execute_result"
    }
   ],
   "source": [
    "emp.head()"
   ]
  },
  {
   "cell_type": "code",
   "execution_count": 38,
   "id": "a5141989-f658-4aea-958d-8cc19a4a35c2",
   "metadata": {
    "scrolled": true
   },
   "outputs": [
    {
     "data": {
      "text/plain": [
       "left\n",
       "0    252\n",
       "1      6\n",
       "Name: count, dtype: int64"
      ]
     },
     "execution_count": 38,
     "metadata": {},
     "output_type": "execute_result"
    }
   ],
   "source": [
    "emp['left'].value_counts()"
   ]
  },
  {
   "cell_type": "code",
   "execution_count": 39,
   "id": "42c800cc-4df1-4687-8fa1-3ecac3d2f6a7",
   "metadata": {},
   "outputs": [
    {
     "data": {
      "text/plain": [
       "array([1, 0], dtype=int64)"
      ]
     },
     "execution_count": 39,
     "metadata": {},
     "output_type": "execute_result"
    }
   ],
   "source": [
    "emp.left.unique()"
   ]
  },
  {
   "cell_type": "code",
   "execution_count": 41,
   "id": "c939099f-2692-41ab-9749-49b029c1ba22",
   "metadata": {},
   "outputs": [
    {
     "data": {
      "text/plain": [
       "2"
      ]
     },
     "execution_count": 41,
     "metadata": {},
     "output_type": "execute_result"
    }
   ],
   "source": [
    "emp.left.nunique()"
   ]
  },
  {
   "cell_type": "code",
   "execution_count": 42,
   "id": "ab49c5e1-e6e5-4874-9dfa-c599afa3476e",
   "metadata": {},
   "outputs": [
    {
     "data": {
      "text/plain": [
       "158.71317829457365"
      ]
     },
     "execution_count": 42,
     "metadata": {},
     "output_type": "execute_result"
    }
   ],
   "source": [
    "emp[\"avgMonthlyHours\"].mean()"
   ]
  },
  {
   "cell_type": "code",
   "execution_count": 43,
   "id": "f1526b62-fdea-4fbb-9335-6e1589916fb1",
   "metadata": {},
   "outputs": [],
   "source": [
    "emp1=df1[(df1.satisfactoryLevel>=0) & (df1.satisfactoryLevel<=0.50) & (df1.Timespent_company>=3) & ((df1.avgMonthlyHours>=130)&(df1.avgMonthlyHours<=200))]"
   ]
  },
  {
   "cell_type": "code",
   "execution_count": 45,
   "id": "58178693-5b60-41a8-9f2c-420f9e025421",
   "metadata": {
    "scrolled": true
   },
   "outputs": [
    {
     "data": {
      "text/html": [
       "<div>\n",
       "<style scoped>\n",
       "    .dataframe tbody tr th:only-of-type {\n",
       "        vertical-align: middle;\n",
       "    }\n",
       "\n",
       "    .dataframe tbody tr th {\n",
       "        vertical-align: top;\n",
       "    }\n",
       "\n",
       "    .dataframe thead th {\n",
       "        text-align: right;\n",
       "    }\n",
       "</style>\n",
       "<table border=\"1\" class=\"dataframe\">\n",
       "  <thead>\n",
       "    <tr style=\"text-align: right;\">\n",
       "      <th></th>\n",
       "      <th>satisfactoryLevel</th>\n",
       "      <th>lastEvaluation</th>\n",
       "      <th>numberOfProjects</th>\n",
       "      <th>avgMonthlyHours</th>\n",
       "      <th>Timespent_company</th>\n",
       "      <th>workAccident</th>\n",
       "      <th>left</th>\n",
       "      <th>promotionInLast5years</th>\n",
       "      <th>dept</th>\n",
       "      <th>salary</th>\n",
       "    </tr>\n",
       "  </thead>\n",
       "  <tbody>\n",
       "    <tr>\n",
       "      <th>0</th>\n",
       "      <td>0.38</td>\n",
       "      <td>0.53</td>\n",
       "      <td>2</td>\n",
       "      <td>157</td>\n",
       "      <td>3</td>\n",
       "      <td>0</td>\n",
       "      <td>1</td>\n",
       "      <td>0</td>\n",
       "      <td>7</td>\n",
       "      <td>1</td>\n",
       "    </tr>\n",
       "    <tr>\n",
       "      <th>3</th>\n",
       "      <td>0.37</td>\n",
       "      <td>0.52</td>\n",
       "      <td>2</td>\n",
       "      <td>159</td>\n",
       "      <td>3</td>\n",
       "      <td>0</td>\n",
       "      <td>1</td>\n",
       "      <td>0</td>\n",
       "      <td>7</td>\n",
       "      <td>1</td>\n",
       "    </tr>\n",
       "    <tr>\n",
       "      <th>4</th>\n",
       "      <td>0.41</td>\n",
       "      <td>0.50</td>\n",
       "      <td>2</td>\n",
       "      <td>153</td>\n",
       "      <td>3</td>\n",
       "      <td>0</td>\n",
       "      <td>1</td>\n",
       "      <td>0</td>\n",
       "      <td>7</td>\n",
       "      <td>1</td>\n",
       "    </tr>\n",
       "    <tr>\n",
       "      <th>7</th>\n",
       "      <td>0.42</td>\n",
       "      <td>0.53</td>\n",
       "      <td>2</td>\n",
       "      <td>142</td>\n",
       "      <td>3</td>\n",
       "      <td>0</td>\n",
       "      <td>1</td>\n",
       "      <td>0</td>\n",
       "      <td>7</td>\n",
       "      <td>1</td>\n",
       "    </tr>\n",
       "    <tr>\n",
       "      <th>8</th>\n",
       "      <td>0.45</td>\n",
       "      <td>0.54</td>\n",
       "      <td>2</td>\n",
       "      <td>135</td>\n",
       "      <td>3</td>\n",
       "      <td>0</td>\n",
       "      <td>1</td>\n",
       "      <td>0</td>\n",
       "      <td>7</td>\n",
       "      <td>1</td>\n",
       "    </tr>\n",
       "  </tbody>\n",
       "</table>\n",
       "</div>"
      ],
      "text/plain": [
       "   satisfactoryLevel  lastEvaluation  numberOfProjects  avgMonthlyHours  \\\n",
       "0               0.38            0.53                 2              157   \n",
       "3               0.37            0.52                 2              159   \n",
       "4               0.41            0.50                 2              153   \n",
       "7               0.42            0.53                 2              142   \n",
       "8               0.45            0.54                 2              135   \n",
       "\n",
       "   Timespent_company  workAccident  left  promotionInLast5years  dept  salary  \n",
       "0                  3             0     1                      0     7       1  \n",
       "3                  3             0     1                      0     7       1  \n",
       "4                  3             0     1                      0     7       1  \n",
       "7                  3             0     1                      0     7       1  \n",
       "8                  3             0     1                      0     7       1  "
      ]
     },
     "execution_count": 45,
     "metadata": {},
     "output_type": "execute_result"
    }
   ],
   "source": [
    "emp1.head()"
   ]
  },
  {
   "cell_type": "code",
   "execution_count": 67,
   "id": "f55b3a3e-7d2c-49fb-b2a6-88ee3fd3e809",
   "metadata": {
    "scrolled": true
   },
   "outputs": [],
   "source": [
    "emp1.shape\n",
    "dof=emp1.shape[0]"
   ]
  },
  {
   "cell_type": "code",
   "execution_count": 58,
   "id": "2efceb05-abb8-4122-9cc2-257b04aa9336",
   "metadata": {},
   "outputs": [],
   "source": [
    "popmean=emp1['avgMonthlyHours'].mean()"
   ]
  },
  {
   "cell_type": "code",
   "execution_count": 52,
   "id": "2a13f9b6-d9da-443e-8e10-5a031db25480",
   "metadata": {},
   "outputs": [],
   "source": [
    "from scipy.stats import ttest_1samp"
   ]
  },
  {
   "cell_type": "code",
   "execution_count": 54,
   "id": "278f1f28-b23e-45b2-9a93-890c1f38d9f5",
   "metadata": {},
   "outputs": [],
   "source": [
    "sample_size=100\n",
    "sample1=emp1.sample(sample_size,random_state=0)"
   ]
  },
  {
   "cell_type": "code",
   "execution_count": 64,
   "id": "5a034b18-66ed-4b8f-af9f-2be06cdef098",
   "metadata": {},
   "outputs": [
    {
     "data": {
      "text/plain": [
       "(-24.37722910665466, 1.2464864613638682e-43)"
      ]
     },
     "execution_count": 64,
     "metadata": {},
     "output_type": "execute_result"
    }
   ],
   "source": [
    "statistics,pvalue=ttest_1samp(sample1[\"avgMonthlyHours\"],popmean=200)\n",
    "statistics,pvalue"
   ]
  },
  {
   "cell_type": "code",
   "execution_count": 62,
   "id": "ec914053-5e66-4ada-88c1-42ee112116cc",
   "metadata": {},
   "outputs": [],
   "source": [
    "from scipy.stats import t\n",
    "alpha=0.05"
   ]
  },
  {
   "cell_type": "code",
   "execution_count": 69,
   "id": "ccba9b7d-88ef-4ca6-a865-cba3466e998f",
   "metadata": {},
   "outputs": [
    {
     "data": {
      "text/plain": [
       "array([-1.96158793,  1.96158793])"
      ]
     },
     "execution_count": 69,
     "metadata": {},
     "output_type": "execute_result"
    }
   ],
   "source": [
    "cv=t.ppf([alpha/2,1-alpha/2],dof)\n",
    "cv"
   ]
  }
 ],
 "metadata": {
  "kernelspec": {
   "display_name": "Python 3 (ipykernel)",
   "language": "python",
   "name": "python3"
  },
  "language_info": {
   "codemirror_mode": {
    "name": "ipython",
    "version": 3
   },
   "file_extension": ".py",
   "mimetype": "text/x-python",
   "name": "python",
   "nbconvert_exporter": "python",
   "pygments_lexer": "ipython3",
   "version": "3.11.7"
  }
 },
 "nbformat": 4,
 "nbformat_minor": 5
}
